{
 "cells": [
  {
   "cell_type": "code",
   "execution_count": 2,
   "id": "6246481b-7e66-48fe-8f20-52568745e473",
   "metadata": {},
   "outputs": [],
   "source": [
    "import pandas as pd\n",
    "import numpy as np\n",
    "from matplotlib import pyplot as plt\n",
    "import statsmodels.formula.api as sm"
   ]
  },
  {
   "cell_type": "code",
   "execution_count": 3,
   "id": "1d655fac-c519-4c8b-9f15-2f9db7dfcbeb",
   "metadata": {},
   "outputs": [
    {
     "data": {
      "text/plain": [
       "(659, 21)"
      ]
     },
     "execution_count": 3,
     "metadata": {},
     "output_type": "execute_result"
    }
   ],
   "source": [
    "ces = pd.read_csv('cces_example_data.csv')\n",
    "ces.shape"
   ]
  },
  {
   "cell_type": "code",
   "execution_count": null,
   "id": "8bf5bd63-2fc3-4b20-8638-e82a6cda92ee",
   "metadata": {},
   "outputs": [],
   "source": [
    "ces.dtypes"
   ]
  },
  {
   "cell_type": "code",
   "execution_count": null,
   "id": "f10c179b-4718-4461-a476-62844ab866fc",
   "metadata": {},
   "outputs": [],
   "source": [
    "ces.columns"
   ]
  },
  {
   "cell_type": "code",
   "execution_count": null,
   "id": "ff86536e-8ced-40e7-813b-507e449f05a1",
   "metadata": {},
   "outputs": [],
   "source": [
    "fig1, ax1 = plt.subplots(2)\n",
    "ax1[0].hist(ces['InterGBiasParty'])\n",
    "ax1[1].hist(ces['ideo5'], bins = 5)\n",
    "plt.show()"
   ]
  },
  {
   "cell_type": "code",
   "execution_count": 13,
   "id": "cc1769a1-2e82-4a0f-b216-eeaba3381db8",
   "metadata": {},
   "outputs": [],
   "source": [
    "ces['ideo5_0'] = ces['ideo5'] - 1"
   ]
  },
  {
   "cell_type": "code",
   "execution_count": 14,
   "id": "eeb72f20-24ff-4efc-9527-b14edf69f343",
   "metadata": {},
   "outputs": [],
   "source": [
    "model_1 = sm.ols('InterGBiasParty ~ ideo5_0', data = ces)\n",
    "results_1 = model_1.fit()"
   ]
  },
  {
   "cell_type": "code",
   "execution_count": null,
   "id": "6ce96651-dbf0-464d-8a8b-66e44e1fa175",
   "metadata": {},
   "outputs": [],
   "source": [
    "print(results_1.summary())"
   ]
  },
  {
   "cell_type": "code",
   "execution_count": null,
   "id": "68d17ae5-749a-4b8a-a88c-5ef8deec2249",
   "metadata": {},
   "outputs": [],
   "source": [
    "fig2, ax2 = plt.subplots()\n",
    "ax2.scatter(ces['ideo5_0'], ces['InterGBiasParty'], alpha = .25)\n",
    "ax2.axline((0, -72.8975), slope = 30.7447)\n",
    "plt.show()"
   ]
  },
  {
   "cell_type": "code",
   "execution_count": 20,
   "id": "d8310f1f-4465-4c2a-9347-34a34d856af5",
   "metadata": {},
   "outputs": [],
   "source": [
    "ces['sex_c'] = ces['sex'].astype('category')"
   ]
  },
  {
   "cell_type": "code",
   "execution_count": null,
   "id": "a3fef24f-3d6f-4bc6-839d-8ce89c4c37e2",
   "metadata": {},
   "outputs": [],
   "source": [
    "model_2 = sm.ols('InterGBiasParty ~ ideo5_0 + sex_c', data = ces)\n",
    "results_2 = model_2.fit()\n",
    "print(results_2.summary())"
   ]
  },
  {
   "cell_type": "code",
   "execution_count": 23,
   "id": "1ab144bf-9208-4d1c-b4b5-fe4f1be83b0f",
   "metadata": {},
   "outputs": [
    {
     "name": "stdout",
     "output_type": "stream",
     "text": [
      "                            OLS Regression Results                            \n",
      "==============================================================================\n",
      "Dep. Variable:        InterGBiasParty   R-squared:                       0.367\n",
      "Model:                            OLS   Adj. R-squared:                  0.364\n",
      "Method:                 Least Squares   F-statistic:                     126.5\n",
      "Date:                Mon, 22 Apr 2024   Prob (F-statistic):           1.28e-64\n",
      "Time:                        18:12:59   Log-Likelihood:                -3548.6\n",
      "No. Observations:                 659   AIC:                             7105.\n",
      "Df Residuals:                     655   BIC:                             7123.\n",
      "Df Model:                           3                                         \n",
      "Covariance Type:            nonrobust                                         \n",
      "======================================================================================\n",
      "                         coef    std err          t      P>|t|      [0.025      0.975]\n",
      "--------------------------------------------------------------------------------------\n",
      "Intercept            -79.5899      6.477    -12.287      0.000     -92.309     -66.871\n",
      "sex_c[T.2]             9.5337      8.161      1.168      0.243      -6.491      25.558\n",
      "ideo5_0               36.5759      2.658     13.760      0.000      31.356      41.796\n",
      "ideo5_0:sex_c[T.2]    -9.4475      3.341     -2.828      0.005     -16.007      -2.888\n",
      "==============================================================================\n",
      "Omnibus:                        5.404   Durbin-Watson:                   2.026\n",
      "Prob(Omnibus):                  0.067   Jarque-Bera (JB):                4.470\n",
      "Skew:                          -0.113   Prob(JB):                        0.107\n",
      "Kurtosis:                       2.665   Cond. No.                         15.6\n",
      "==============================================================================\n",
      "\n",
      "Notes:\n",
      "[1] Standard Errors assume that the covariance matrix of the errors is correctly specified.\n"
     ]
    }
   ],
   "source": [
    "model_3 = sm.ols('InterGBiasParty ~ ideo5_0*sex_c', data = ces)\n",
    "results_3 = model_3.fit()\n",
    "print(results_3.summary())"
   ]
  },
  {
   "cell_type": "code",
   "execution_count": null,
   "id": "9593f84a-a2a7-41cf-94a9-58d4b3807518",
   "metadata": {},
   "outputs": [],
   "source": []
  },
  {
   "cell_type": "code",
   "execution_count": null,
   "id": "cb18117e-796c-4440-b387-0aed823d657a",
   "metadata": {},
   "outputs": [],
   "source": []
  },
  {
   "cell_type": "code",
   "execution_count": null,
   "id": "e81c835d-465e-465c-91c2-d831c562ff93",
   "metadata": {},
   "outputs": [],
   "source": []
  },
  {
   "cell_type": "code",
   "execution_count": null,
   "id": "41c6ce90-1ffe-4416-a898-34170b25d778",
   "metadata": {},
   "outputs": [],
   "source": []
  }
 ],
 "metadata": {
  "kernelspec": {
   "display_name": "Python 3 (ipykernel)",
   "language": "python",
   "name": "python3"
  },
  "language_info": {
   "codemirror_mode": {
    "name": "ipython",
    "version": 3
   },
   "file_extension": ".py",
   "mimetype": "text/x-python",
   "name": "python",
   "nbconvert_exporter": "python",
   "pygments_lexer": "ipython3",
   "version": "3.12.1"
  }
 },
 "nbformat": 4,
 "nbformat_minor": 5
}
