{
 "cells": [
  {
   "cell_type": "code",
   "execution_count": 1,
   "id": "59cdfbfb-8fe4-4263-9c45-41a723d838bb",
   "metadata": {},
   "outputs": [],
   "source": [
    "import pandas as pd"
   ]
  },
  {
   "cell_type": "code",
   "execution_count": 2,
   "id": "4d86739a-0199-4a72-91bc-9dd81461f9b9",
   "metadata": {},
   "outputs": [
    {
     "data": {
      "text/html": [
       "<div>\n",
       "<style scoped>\n",
       "    .dataframe tbody tr th:only-of-type {\n",
       "        vertical-align: middle;\n",
       "    }\n",
       "\n",
       "    .dataframe tbody tr th {\n",
       "        vertical-align: top;\n",
       "    }\n",
       "\n",
       "    .dataframe thead th {\n",
       "        text-align: right;\n",
       "    }\n",
       "</style>\n",
       "<table border=\"1\" class=\"dataframe\">\n",
       "  <thead>\n",
       "    <tr style=\"text-align: right;\">\n",
       "      <th></th>\n",
       "      <th>Unnamed: 0</th>\n",
       "      <th>Player</th>\n",
       "      <th>Span</th>\n",
       "      <th>Mat</th>\n",
       "      <th>Inns</th>\n",
       "      <th>NO</th>\n",
       "      <th>Runs</th>\n",
       "      <th>HS</th>\n",
       "      <th>Ave</th>\n",
       "      <th>BF</th>\n",
       "      <th>SR</th>\n",
       "      <th>100</th>\n",
       "      <th>50</th>\n",
       "      <th>0</th>\n",
       "      <th>4s</th>\n",
       "      <th>6s</th>\n",
       "      <th>Unnamed: 15</th>\n",
       "      <th>Unnamed: 17</th>\n",
       "      <th>Unnamed: 18</th>\n",
       "    </tr>\n",
       "  </thead>\n",
       "  <tbody>\n",
       "    <tr>\n",
       "      <th>0</th>\n",
       "      <td>0</td>\n",
       "      <td>V Kohli (INDIA)</td>\n",
       "      <td>2010-2019</td>\n",
       "      <td>75</td>\n",
       "      <td>70</td>\n",
       "      <td>20</td>\n",
       "      <td>2633</td>\n",
       "      <td>94*</td>\n",
       "      <td>52.66</td>\n",
       "      <td>1907</td>\n",
       "      <td>138.07</td>\n",
       "      <td>0</td>\n",
       "      <td>24</td>\n",
       "      <td>2</td>\n",
       "      <td>247</td>\n",
       "      <td>71</td>\n",
       "      <td>NaN</td>\n",
       "      <td>NaN</td>\n",
       "      <td>NaN</td>\n",
       "    </tr>\n",
       "    <tr>\n",
       "      <th>1</th>\n",
       "      <td>1</td>\n",
       "      <td>RG Sharma (INDIA)</td>\n",
       "      <td>2007-2019</td>\n",
       "      <td>104</td>\n",
       "      <td>96</td>\n",
       "      <td>14</td>\n",
       "      <td>2633</td>\n",
       "      <td>118</td>\n",
       "      <td>32.1</td>\n",
       "      <td>1905</td>\n",
       "      <td>138.21</td>\n",
       "      <td>4</td>\n",
       "      <td>19</td>\n",
       "      <td>6</td>\n",
       "      <td>234</td>\n",
       "      <td>120</td>\n",
       "      <td>NaN</td>\n",
       "      <td>NaN</td>\n",
       "      <td>NaN</td>\n",
       "    </tr>\n",
       "    <tr>\n",
       "      <th>2</th>\n",
       "      <td>2</td>\n",
       "      <td>MJ Guptill (NZ)</td>\n",
       "      <td>2009-2019</td>\n",
       "      <td>83</td>\n",
       "      <td>80</td>\n",
       "      <td>7</td>\n",
       "      <td>2436</td>\n",
       "      <td>105</td>\n",
       "      <td>33.36</td>\n",
       "      <td>1810</td>\n",
       "      <td>134.58</td>\n",
       "      <td>2</td>\n",
       "      <td>15</td>\n",
       "      <td>2</td>\n",
       "      <td>215</td>\n",
       "      <td>113</td>\n",
       "      <td>NaN</td>\n",
       "      <td>NaN</td>\n",
       "      <td>NaN</td>\n",
       "    </tr>\n",
       "    <tr>\n",
       "      <th>3</th>\n",
       "      <td>3</td>\n",
       "      <td>Shoaib Malik (ICC/PAK)</td>\n",
       "      <td>2006-2019</td>\n",
       "      <td>111</td>\n",
       "      <td>104</td>\n",
       "      <td>30</td>\n",
       "      <td>2263</td>\n",
       "      <td>75</td>\n",
       "      <td>30.58</td>\n",
       "      <td>1824</td>\n",
       "      <td>124.06</td>\n",
       "      <td>0</td>\n",
       "      <td>7</td>\n",
       "      <td>1</td>\n",
       "      <td>186</td>\n",
       "      <td>61</td>\n",
       "      <td>NaN</td>\n",
       "      <td>NaN</td>\n",
       "      <td>*regular expression</td>\n",
       "    </tr>\n",
       "    <tr>\n",
       "      <th>4</th>\n",
       "      <td>4</td>\n",
       "      <td>BB McCullum (NZ)</td>\n",
       "      <td>2005-2015</td>\n",
       "      <td>71</td>\n",
       "      <td>70</td>\n",
       "      <td>10</td>\n",
       "      <td>2140</td>\n",
       "      <td>123</td>\n",
       "      <td>35.66</td>\n",
       "      <td>1571</td>\n",
       "      <td>136.21</td>\n",
       "      <td>2</td>\n",
       "      <td>13</td>\n",
       "      <td>3</td>\n",
       "      <td>199</td>\n",
       "      <td>91</td>\n",
       "      <td>NaN</td>\n",
       "      <td>NaN</td>\n",
       "      <td>*slicing</td>\n",
       "    </tr>\n",
       "  </tbody>\n",
       "</table>\n",
       "</div>"
      ],
      "text/plain": [
       "   Unnamed: 0                  Player       Span  Mat Inns  NO  Runs   HS  \\\n",
       "0           0         V Kohli (INDIA)  2010-2019   75   70  20  2633  94*   \n",
       "1           1       RG Sharma (INDIA)  2007-2019  104   96  14  2633  118   \n",
       "2           2         MJ Guptill (NZ)  2009-2019   83   80   7  2436  105   \n",
       "3           3  Shoaib Malik (ICC/PAK)  2006-2019  111  104  30  2263   75   \n",
       "4           4        BB McCullum (NZ)  2005-2015   71   70  10  2140  123   \n",
       "\n",
       "     Ave    BF      SR 100  50  0   4s   6s  Unnamed: 15  Unnamed: 17  \\\n",
       "0  52.66  1907  138.07   0  24  2  247   71          NaN          NaN   \n",
       "1   32.1  1905  138.21   4  19  6  234  120          NaN          NaN   \n",
       "2  33.36  1810  134.58   2  15  2  215  113          NaN          NaN   \n",
       "3  30.58  1824  124.06   0   7  1  186   61          NaN          NaN   \n",
       "4  35.66  1571  136.21   2  13  3  199   91          NaN          NaN   \n",
       "\n",
       "           Unnamed: 18  \n",
       "0                  NaN  \n",
       "1                  NaN  \n",
       "2                  NaN  \n",
       "3  *regular expression  \n",
       "4            *slicing   "
      ]
     },
     "execution_count": 2,
     "metadata": {},
     "output_type": "execute_result"
    }
   ],
   "source": [
    "dat = pd.read_csv('T20 Data.csv')\n",
    "dat.head()"
   ]
  },
  {
   "cell_type": "code",
   "execution_count": 3,
   "id": "631a51d4-9c56-4cbe-a474-8a68ad796572",
   "metadata": {},
   "outputs": [
    {
     "data": {
      "text/plain": [
       "0           V Kohli (INDIA)\n",
       "1         RG Sharma (INDIA)\n",
       "2           MJ Guptill (NZ)\n",
       "3    Shoaib Malik (ICC/PAK)\n",
       "4          BB McCullum (NZ)\n",
       "5           DA Warner (AUS)\n",
       "6          EJG Morgan (ENG)\n",
       "7    Mohammad Shahzad (AFG)\n",
       "8            JP Duminy (SA)\n",
       "9         PR Stirling (IRE)\n",
       "Name: Player, dtype: object"
      ]
     },
     "execution_count": 3,
     "metadata": {},
     "output_type": "execute_result"
    }
   ],
   "source": [
    "dat['Player'][0:10]"
   ]
  },
  {
   "cell_type": "code",
   "execution_count": 4,
   "id": "c574e017-9045-441e-b37f-027b2789e5f8",
   "metadata": {},
   "outputs": [
    {
     "data": {
      "text/plain": [
       "['V Kohli ', 'INDIA)']"
      ]
     },
     "execution_count": 4,
     "metadata": {},
     "output_type": "execute_result"
    }
   ],
   "source": [
    "dat['Player'][0].split('(')"
   ]
  },
  {
   "cell_type": "code",
   "execution_count": 5,
   "id": "860702b6-5f14-4ded-a6b9-021bbc1ea458",
   "metadata": {},
   "outputs": [
    {
     "data": {
      "text/plain": [
       "'INDIA)'"
      ]
     },
     "execution_count": 5,
     "metadata": {},
     "output_type": "execute_result"
    }
   ],
   "source": [
    "dat['Player'][0].split('(')[1]"
   ]
  },
  {
   "cell_type": "code",
   "execution_count": 6,
   "id": "65536259-34a3-491c-9422-d66aff39f75b",
   "metadata": {},
   "outputs": [
    {
     "data": {
      "text/plain": [
       "'INDIA'"
      ]
     },
     "execution_count": 6,
     "metadata": {},
     "output_type": "execute_result"
    }
   ],
   "source": [
    "dat['Player'][0].split('(')[1][:-1]"
   ]
  },
  {
   "cell_type": "code",
   "execution_count": 7,
   "id": "6afc3e5f-0236-43da-94ee-33e5d1452fb3",
   "metadata": {},
   "outputs": [
    {
     "data": {
      "text/plain": [
       "['INDIA', 'INDIA', 'NZ', 'ICC/PAK', 'NZ', 'AUS', 'ENG', 'AFG', 'SA', 'IRE']"
      ]
     },
     "execution_count": 7,
     "metadata": {},
     "output_type": "execute_result"
    }
   ],
   "source": [
    "country = [x.split('(')[-1][:-1] for x in dat['Player']]\n",
    "country[0:10]"
   ]
  },
  {
   "cell_type": "code",
   "execution_count": 8,
   "id": "454cdd5c-adba-48cf-9259-7124a0674ab9",
   "metadata": {},
   "outputs": [],
   "source": [
    "dat['country'] = country\n",
    "dat['country'] = dat['country'].astype('category')"
   ]
  },
  {
   "cell_type": "code",
   "execution_count": 9,
   "id": "d097e7de-5fae-436e-a60d-72f6c4eed3dc",
   "metadata": {},
   "outputs": [
    {
     "data": {
      "text/html": [
       "<div>\n",
       "<style scoped>\n",
       "    .dataframe tbody tr th:only-of-type {\n",
       "        vertical-align: middle;\n",
       "    }\n",
       "\n",
       "    .dataframe tbody tr th {\n",
       "        vertical-align: top;\n",
       "    }\n",
       "\n",
       "    .dataframe thead th {\n",
       "        text-align: right;\n",
       "    }\n",
       "</style>\n",
       "<table border=\"1\" class=\"dataframe\">\n",
       "  <thead>\n",
       "    <tr style=\"text-align: right;\">\n",
       "      <th></th>\n",
       "      <th>Unnamed: 0</th>\n",
       "      <th>Player</th>\n",
       "      <th>Span</th>\n",
       "      <th>Mat</th>\n",
       "      <th>Inns</th>\n",
       "      <th>NO</th>\n",
       "      <th>Runs</th>\n",
       "      <th>HS</th>\n",
       "      <th>Ave</th>\n",
       "      <th>BF</th>\n",
       "      <th>SR</th>\n",
       "      <th>100</th>\n",
       "      <th>50</th>\n",
       "      <th>0</th>\n",
       "      <th>4s</th>\n",
       "      <th>6s</th>\n",
       "      <th>Unnamed: 15</th>\n",
       "      <th>Unnamed: 17</th>\n",
       "      <th>Unnamed: 18</th>\n",
       "      <th>country</th>\n",
       "    </tr>\n",
       "  </thead>\n",
       "  <tbody>\n",
       "    <tr>\n",
       "      <th>0</th>\n",
       "      <td>0</td>\n",
       "      <td>V Kohli (INDIA)</td>\n",
       "      <td>2010-2019</td>\n",
       "      <td>75</td>\n",
       "      <td>70</td>\n",
       "      <td>20</td>\n",
       "      <td>2633</td>\n",
       "      <td>94*</td>\n",
       "      <td>52.66</td>\n",
       "      <td>1907</td>\n",
       "      <td>138.07</td>\n",
       "      <td>0</td>\n",
       "      <td>24</td>\n",
       "      <td>2</td>\n",
       "      <td>247</td>\n",
       "      <td>71</td>\n",
       "      <td>NaN</td>\n",
       "      <td>NaN</td>\n",
       "      <td>NaN</td>\n",
       "      <td>INDIA</td>\n",
       "    </tr>\n",
       "    <tr>\n",
       "      <th>1</th>\n",
       "      <td>1</td>\n",
       "      <td>RG Sharma (INDIA)</td>\n",
       "      <td>2007-2019</td>\n",
       "      <td>104</td>\n",
       "      <td>96</td>\n",
       "      <td>14</td>\n",
       "      <td>2633</td>\n",
       "      <td>118</td>\n",
       "      <td>32.1</td>\n",
       "      <td>1905</td>\n",
       "      <td>138.21</td>\n",
       "      <td>4</td>\n",
       "      <td>19</td>\n",
       "      <td>6</td>\n",
       "      <td>234</td>\n",
       "      <td>120</td>\n",
       "      <td>NaN</td>\n",
       "      <td>NaN</td>\n",
       "      <td>NaN</td>\n",
       "      <td>INDIA</td>\n",
       "    </tr>\n",
       "    <tr>\n",
       "      <th>2</th>\n",
       "      <td>2</td>\n",
       "      <td>MJ Guptill (NZ)</td>\n",
       "      <td>2009-2019</td>\n",
       "      <td>83</td>\n",
       "      <td>80</td>\n",
       "      <td>7</td>\n",
       "      <td>2436</td>\n",
       "      <td>105</td>\n",
       "      <td>33.36</td>\n",
       "      <td>1810</td>\n",
       "      <td>134.58</td>\n",
       "      <td>2</td>\n",
       "      <td>15</td>\n",
       "      <td>2</td>\n",
       "      <td>215</td>\n",
       "      <td>113</td>\n",
       "      <td>NaN</td>\n",
       "      <td>NaN</td>\n",
       "      <td>NaN</td>\n",
       "      <td>NZ</td>\n",
       "    </tr>\n",
       "    <tr>\n",
       "      <th>3</th>\n",
       "      <td>3</td>\n",
       "      <td>Shoaib Malik (ICC/PAK)</td>\n",
       "      <td>2006-2019</td>\n",
       "      <td>111</td>\n",
       "      <td>104</td>\n",
       "      <td>30</td>\n",
       "      <td>2263</td>\n",
       "      <td>75</td>\n",
       "      <td>30.58</td>\n",
       "      <td>1824</td>\n",
       "      <td>124.06</td>\n",
       "      <td>0</td>\n",
       "      <td>7</td>\n",
       "      <td>1</td>\n",
       "      <td>186</td>\n",
       "      <td>61</td>\n",
       "      <td>NaN</td>\n",
       "      <td>NaN</td>\n",
       "      <td>*regular expression</td>\n",
       "      <td>ICC/PAK</td>\n",
       "    </tr>\n",
       "    <tr>\n",
       "      <th>4</th>\n",
       "      <td>4</td>\n",
       "      <td>BB McCullum (NZ)</td>\n",
       "      <td>2005-2015</td>\n",
       "      <td>71</td>\n",
       "      <td>70</td>\n",
       "      <td>10</td>\n",
       "      <td>2140</td>\n",
       "      <td>123</td>\n",
       "      <td>35.66</td>\n",
       "      <td>1571</td>\n",
       "      <td>136.21</td>\n",
       "      <td>2</td>\n",
       "      <td>13</td>\n",
       "      <td>3</td>\n",
       "      <td>199</td>\n",
       "      <td>91</td>\n",
       "      <td>NaN</td>\n",
       "      <td>NaN</td>\n",
       "      <td>*slicing</td>\n",
       "      <td>NZ</td>\n",
       "    </tr>\n",
       "  </tbody>\n",
       "</table>\n",
       "</div>"
      ],
      "text/plain": [
       "   Unnamed: 0                  Player       Span  Mat Inns  NO  Runs   HS  \\\n",
       "0           0         V Kohli (INDIA)  2010-2019   75   70  20  2633  94*   \n",
       "1           1       RG Sharma (INDIA)  2007-2019  104   96  14  2633  118   \n",
       "2           2         MJ Guptill (NZ)  2009-2019   83   80   7  2436  105   \n",
       "3           3  Shoaib Malik (ICC/PAK)  2006-2019  111  104  30  2263   75   \n",
       "4           4        BB McCullum (NZ)  2005-2015   71   70  10  2140  123   \n",
       "\n",
       "     Ave    BF      SR 100  50  0   4s   6s  Unnamed: 15  Unnamed: 17  \\\n",
       "0  52.66  1907  138.07   0  24  2  247   71          NaN          NaN   \n",
       "1   32.1  1905  138.21   4  19  6  234  120          NaN          NaN   \n",
       "2  33.36  1810  134.58   2  15  2  215  113          NaN          NaN   \n",
       "3  30.58  1824  124.06   0   7  1  186   61          NaN          NaN   \n",
       "4  35.66  1571  136.21   2  13  3  199   91          NaN          NaN   \n",
       "\n",
       "           Unnamed: 18  country  \n",
       "0                  NaN    INDIA  \n",
       "1                  NaN    INDIA  \n",
       "2                  NaN       NZ  \n",
       "3  *regular expression  ICC/PAK  \n",
       "4            *slicing        NZ  "
      ]
     },
     "execution_count": 9,
     "metadata": {},
     "output_type": "execute_result"
    }
   ],
   "source": [
    "dat.head()"
   ]
  },
  {
   "cell_type": "code",
   "execution_count": 10,
   "id": "4e0d20ea-36bf-4dae-88e5-072fd189437d",
   "metadata": {},
   "outputs": [
    {
     "data": {
      "text/plain": [
       "Index(['', 'AFG', 'AFG/GER', 'AFG/ICC', 'AUS', 'AUS/ICC/NZ', 'AUS/NL',\n",
       "       'AUS/World', 'Arg', 'Aut', 'BAH', 'BDESH', 'BDESH/ICC/World', 'BHU',\n",
       "       'BMUDA', 'Belg', 'Blz', 'Botsw', 'CAN', 'CRC', 'CZK-R', 'Caym', 'Chile',\n",
       "       'DEN', 'ENG', 'ENG/ICC', 'ENG/IRE', 'ENG/World', 'ESP', 'Fin', 'GER',\n",
       "       'GIBR', 'GUE', 'Ghana', 'HKG', 'HKG/NZ', 'ICC/INDIA', 'ICC/NEPAL',\n",
       "       'ICC/NZ', 'ICC/PAK', 'ICC/SL/World', 'INDIA', 'IRE', 'ITA', 'JER',\n",
       "       'KENYA', 'KUW', 'LUX', 'MAL', 'MALTA', 'MWI', 'Mald', 'Mex', 'Moz',\n",
       "       'NAM', 'NEPAL', 'NGA', 'NL', 'NL/SA', 'NOR', 'NZ', 'NZ/World', 'OMAN',\n",
       "       'PAK', 'PHI', 'PNG', 'PNM', 'PORT', 'Peru', 'QAT', 'ROM', 'SA',\n",
       "       'SA/World', 'SCOT', 'SGP', 'SL', 'Samoa', 'Saudi', 'Serb', 'THAI',\n",
       "       'TKY', 'UAE', 'UGA', 'USA', 'USA/WI', 'VAN', 'WI', 'WI/World', 'ZIM'],\n",
       "      dtype='object')"
      ]
     },
     "execution_count": 10,
     "metadata": {},
     "output_type": "execute_result"
    }
   ],
   "source": [
    "dat['country'].cat.categories"
   ]
  },
  {
   "cell_type": "code",
   "execution_count": 11,
   "id": "37ca84c1-58ea-4384-8570-56d4a8207df8",
   "metadata": {},
   "outputs": [
    {
     "data": {
      "text/plain": [
       "country\n",
       "AUS      89\n",
       "ENG      86\n",
       "SL       83\n",
       "PAK      82\n",
       "INDIA    81\n",
       "SA       79\n",
       "WI       78\n",
       "NZ       78\n",
       "BDESH    66\n",
       "ZIM      57\n",
       "CAN      53\n",
       "SCOT     51\n",
       "UAE      48\n",
       "NL       48\n",
       "IRE      46\n",
       "AFG      39\n",
       "         39\n",
       "KENYA    33\n",
       "HKG      31\n",
       "NEPAL    29\n",
       "Name: count, dtype: int64"
      ]
     },
     "execution_count": 11,
     "metadata": {},
     "output_type": "execute_result"
    }
   ],
   "source": [
    "dat['country'].value_counts()[:20]"
   ]
  },
  {
   "cell_type": "code",
   "execution_count": 12,
   "id": "424d1979-b3bd-4397-a529-47310ecbe5b7",
   "metadata": {},
   "outputs": [
    {
     "data": {
      "text/plain": [
       "488              K Dasan ()\n",
       "619       Muhammad Awais ()\n",
       "699              H Lakov ()\n",
       "741      Muhammad Saleem ()\n",
       "790            G Caisley ()\n",
       "793           A Manousis ()\n",
       "849         Yasar Haroon ()\n",
       "857          Ismat Ullah ()\n",
       "863             P Mishra ()\n",
       "995             AS Mehmi ()\n",
       "1053         Asrar Ahmed ()\n",
       "1081            B Ivanov ()\n",
       "1173          N Yordanov ()\n",
       "1188           D Nikolov ()\n",
       "1211        JR Singleton ()\n",
       "1216          A Ahmadhel ()\n",
       "1219          KK Bishnoi ()\n",
       "1223        LF Goncalves ()\n",
       "1271            N Nankov ()\n",
       "1333           S Goustis ()\n",
       "1358             R Avery ()\n",
       "1405         VRCF Poubel ()\n",
       "1450      Aslam Mohammad ()\n",
       "1467        LH Rodrigues ()\n",
       "1507        Arslan Ahmed ()\n",
       "1518         I Katzarski ()\n",
       "1566            H Ivanov ()\n",
       "1596          A Aspiotis ()\n",
       "1603           Fahad Ali ()\n",
       "1686             J Allen ()\n",
       "1718             A Lagos ()\n",
       "1747            KM Silva ()\n",
       "1788          GC Galanis ()\n",
       "1846      S Soosiyakumar ()\n",
       "1860      A Anemogiannis ()\n",
       "1870           S Bantzas ()\n",
       "1889             V Dikov ()\n",
       "1948           G Nikitas ()\n",
       "1974    Shaffeq Muhammad ()\n",
       "Name: Player, dtype: object"
      ]
     },
     "execution_count": 12,
     "metadata": {},
     "output_type": "execute_result"
    }
   ],
   "source": [
    "dat[dat['country'] == '']['Player']"
   ]
  },
  {
   "cell_type": "code",
   "execution_count": 13,
   "id": "307e2d6a-9d54-4ea2-9d33-7332aa652313",
   "metadata": {},
   "outputs": [
    {
     "data": {
      "text/plain": [
       "Series([], Name: Player, dtype: object)"
      ]
     },
     "execution_count": 13,
     "metadata": {},
     "output_type": "execute_result"
    }
   ],
   "source": [
    "dat[dat['country'] == '2)']['Player']"
   ]
  },
  {
   "cell_type": "code",
   "execution_count": 14,
   "id": "01bf068c-6b87-426e-85c6-a8441a14a2f3",
   "metadata": {},
   "outputs": [
    {
     "data": {
      "text/plain": [
       "Series([], Name: Player, dtype: object)"
      ]
     },
     "execution_count": 14,
     "metadata": {},
     "output_type": "execute_result"
    }
   ],
   "source": [
    "dat[dat['country'] == '3)']['Player']"
   ]
  },
  {
   "cell_type": "code",
   "execution_count": 15,
   "id": "abdbc105-f895-458d-9a22-75ca6898f8af",
   "metadata": {},
   "outputs": [
    {
     "data": {
      "text/plain": [
       "country\n",
       "SA/World           5\n",
       "AUS/World          3\n",
       "ICC/PAK            2\n",
       "ENG/ICC            2\n",
       "USA/WI             2\n",
       "WI/World           2\n",
       "ENG/IRE            2\n",
       "BDESH/ICC/World    1\n",
       "ENG/World          1\n",
       "AFG/GER            1\n",
       "AFG/ICC            1\n",
       "NZ/World           1\n",
       "ICC/NZ             1\n",
       "AUS/NL             1\n",
       "NL/SA              1\n",
       "ICC/NEPAL          1\n",
       "ICC/INDIA          1\n",
       "HKG/NZ             1\n",
       "ICC/SL/World       1\n",
       "AUS/ICC/NZ         1\n",
       "Name: count, dtype: int64"
      ]
     },
     "execution_count": 15,
     "metadata": {},
     "output_type": "execute_result"
    }
   ],
   "source": [
    "dat['country'].value_counts()[-20:]"
   ]
  }
 ],
 "metadata": {
  "kernelspec": {
   "display_name": "Python 3 (ipykernel)",
   "language": "python",
   "name": "python3"
  },
  "language_info": {
   "codemirror_mode": {
    "name": "ipython",
    "version": 3
   },
   "file_extension": ".py",
   "mimetype": "text/x-python",
   "name": "python",
   "nbconvert_exporter": "python",
   "pygments_lexer": "ipython3",
   "version": "3.12.0"
  }
 },
 "nbformat": 4,
 "nbformat_minor": 5
}
