{
 "cells": [
  {
   "cell_type": "code",
   "execution_count": 1,
   "id": "447cef16-cb1b-418f-b622-b1fea0eeac1f",
   "metadata": {},
   "outputs": [],
   "source": [
    "import requests\n",
    "from io import StringIO\n",
    "import json"
   ]
  },
  {
   "cell_type": "code",
   "execution_count": 2,
   "id": "98d5e303-d59b-48cb-b139-0a90eb604a69",
   "metadata": {},
   "outputs": [],
   "source": [
    "wiki_worldcup = 'https://en.wikipedia.org/wiki/FIFA_World_Cup'"
   ]
  },
  {
   "cell_type": "code",
   "execution_count": 3,
   "id": "e815acc9-4082-4470-92e5-9a733e516dba",
   "metadata": {},
   "outputs": [],
   "source": [
    "worldcup_page = requests.get(wiki_worldcup)"
   ]
  },
  {
   "cell_type": "code",
   "execution_count": 4,
   "id": "db2a0aff-00a3-486f-99d6-da9a5b242b9e",
   "metadata": {},
   "outputs": [
    {
     "data": {
      "text/plain": [
       "200"
      ]
     },
     "execution_count": 4,
     "metadata": {},
     "output_type": "execute_result"
    }
   ],
   "source": [
    "worldcup_page.status_code"
   ]
  },
  {
   "cell_type": "code",
   "execution_count": 5,
   "id": "6f9a2e32-5b39-424e-a3fd-3b474eed773f",
   "metadata": {},
   "outputs": [
    {
     "data": {
      "text/plain": [
       "'<!DOCTYPE html>\\n<htm'"
      ]
     },
     "execution_count": 5,
     "metadata": {},
     "output_type": "execute_result"
    }
   ],
   "source": [
    "worldcup_page.text[0:20]"
   ]
  },
  {
   "cell_type": "code",
   "execution_count": 6,
   "id": "0b53bc36-b982-4978-b5d5-d94b9e3dd8b0",
   "metadata": {},
   "outputs": [
    {
     "data": {
      "text/plain": [
       "200"
      ]
     },
     "execution_count": 6,
     "metadata": {},
     "output_type": "execute_result"
    }
   ],
   "source": [
    "tiktok_page = requests.get('https://www.tiktok.com/')\n",
    "tiktok_page.status_code"
   ]
  },
  {
   "cell_type": "code",
   "execution_count": 7,
   "id": "76cdb66b-8030-4097-90b9-9e0def8145d0",
   "metadata": {},
   "outputs": [
    {
     "data": {
      "text/plain": [
       "'<!doctype '"
      ]
     },
     "execution_count": 7,
     "metadata": {},
     "output_type": "execute_result"
    }
   ],
   "source": [
    "tiktok_page.text[0:10]"
   ]
  },
  {
   "cell_type": "code",
   "execution_count": 8,
   "id": "8e7cbbcd-0103-46f9-a27c-d94dbfec5f33",
   "metadata": {},
   "outputs": [],
   "source": [
    "import pandas as pd"
   ]
  },
  {
   "cell_type": "code",
   "execution_count": 9,
   "id": "aaa19822-02cc-42b3-934e-053b9e7a1fd9",
   "metadata": {},
   "outputs": [
    {
     "data": {
      "text/plain": [
       "list"
      ]
     },
     "execution_count": 9,
     "metadata": {},
     "output_type": "execute_result"
    }
   ],
   "source": [
    "worldcup_tables = pd.read_html(StringIO(worldcup_page.text))\n",
    "type(worldcup_tables)"
   ]
  },
  {
   "cell_type": "code",
   "execution_count": 10,
   "id": "d24a7ecd-ce24-4182-a2f2-bc684690b998",
   "metadata": {},
   "outputs": [
    {
     "data": {
      "text/html": [
       "<div>\n",
       "<style scoped>\n",
       "    .dataframe tbody tr th:only-of-type {\n",
       "        vertical-align: middle;\n",
       "    }\n",
       "\n",
       "    .dataframe tbody tr th {\n",
       "        vertical-align: top;\n",
       "    }\n",
       "\n",
       "    .dataframe thead tr th {\n",
       "        text-align: left;\n",
       "    }\n",
       "</style>\n",
       "<table border=\"1\" class=\"dataframe\">\n",
       "  <thead>\n",
       "    <tr>\n",
       "      <th></th>\n",
       "      <th>Year</th>\n",
       "      <th>Hosts</th>\n",
       "      <th>Venues/ Cities</th>\n",
       "      <th>Total attendance †</th>\n",
       "      <th>Matches</th>\n",
       "      <th>Average attendance</th>\n",
       "      <th colspan=\"3\" halign=\"left\">Highest attendances ‡</th>\n",
       "    </tr>\n",
       "    <tr>\n",
       "      <th></th>\n",
       "      <th>Year</th>\n",
       "      <th>Hosts</th>\n",
       "      <th>Venues/ Cities</th>\n",
       "      <th>Total attendance †</th>\n",
       "      <th>Matches</th>\n",
       "      <th>Average attendance</th>\n",
       "      <th>Number</th>\n",
       "      <th>Venue</th>\n",
       "      <th>Game(s)</th>\n",
       "    </tr>\n",
       "  </thead>\n",
       "  <tbody>\n",
       "    <tr>\n",
       "      <th>0</th>\n",
       "      <td>1930</td>\n",
       "      <td>Uruguay</td>\n",
       "      <td>3/1</td>\n",
       "      <td>590549.0</td>\n",
       "      <td>18</td>\n",
       "      <td>32808.0</td>\n",
       "      <td>93000</td>\n",
       "      <td>Estadio Centenario, Montevideo</td>\n",
       "      <td>Uruguay 6–1 Yugoslavia, semi-final</td>\n",
       "    </tr>\n",
       "    <tr>\n",
       "      <th>1</th>\n",
       "      <td>1934</td>\n",
       "      <td>Italy</td>\n",
       "      <td>8/8</td>\n",
       "      <td>363000.0</td>\n",
       "      <td>17</td>\n",
       "      <td>21353.0</td>\n",
       "      <td>55000</td>\n",
       "      <td>Stadio Nazionale PNF, Rome</td>\n",
       "      <td>Italy 2–1 Czechoslovakia, final</td>\n",
       "    </tr>\n",
       "    <tr>\n",
       "      <th>2</th>\n",
       "      <td>1938</td>\n",
       "      <td>France</td>\n",
       "      <td>10/9</td>\n",
       "      <td>375700.0</td>\n",
       "      <td>18</td>\n",
       "      <td>20872.0</td>\n",
       "      <td>58455</td>\n",
       "      <td>Olympique de Colombes, Paris</td>\n",
       "      <td>France 1–3 Italy, quarter-final</td>\n",
       "    </tr>\n",
       "    <tr>\n",
       "      <th>3</th>\n",
       "      <td>1950</td>\n",
       "      <td>Brazil</td>\n",
       "      <td>6/6</td>\n",
       "      <td>1045246.0</td>\n",
       "      <td>22</td>\n",
       "      <td>47511.0</td>\n",
       "      <td>173,850[95]</td>\n",
       "      <td>Maracanã Stadium, Rio de Janeiro</td>\n",
       "      <td>Brazil 1–2 Uruguay, deciding match</td>\n",
       "    </tr>\n",
       "    <tr>\n",
       "      <th>4</th>\n",
       "      <td>1954</td>\n",
       "      <td>Switzerland</td>\n",
       "      <td>6/6</td>\n",
       "      <td>768607.0</td>\n",
       "      <td>26</td>\n",
       "      <td>29562.0</td>\n",
       "      <td>63000</td>\n",
       "      <td>Wankdorf Stadium, Bern</td>\n",
       "      <td>West Germany 3–2 Hungary, final</td>\n",
       "    </tr>\n",
       "    <tr>\n",
       "      <th>5</th>\n",
       "      <td>1958</td>\n",
       "      <td>Sweden</td>\n",
       "      <td>12/12</td>\n",
       "      <td>819810.0</td>\n",
       "      <td>35</td>\n",
       "      <td>23423.0</td>\n",
       "      <td>50928</td>\n",
       "      <td>Ullevi Stadium, Gothenburg</td>\n",
       "      <td>Brazil 2–0 Soviet Union, group stage</td>\n",
       "    </tr>\n",
       "    <tr>\n",
       "      <th>6</th>\n",
       "      <td>1962</td>\n",
       "      <td>Chile</td>\n",
       "      <td>4/4</td>\n",
       "      <td>893172.0</td>\n",
       "      <td>32</td>\n",
       "      <td>27912.0</td>\n",
       "      <td>68679</td>\n",
       "      <td>Estadio Nacional, Santiago</td>\n",
       "      <td>Brazil 4–2 Chile, semi-final</td>\n",
       "    </tr>\n",
       "    <tr>\n",
       "      <th>7</th>\n",
       "      <td>1966</td>\n",
       "      <td>England</td>\n",
       "      <td>8/7</td>\n",
       "      <td>1563135.0</td>\n",
       "      <td>32</td>\n",
       "      <td>48848.0</td>\n",
       "      <td>98270</td>\n",
       "      <td>Wembley Stadium, London</td>\n",
       "      <td>England 4–2 West Germany, final</td>\n",
       "    </tr>\n",
       "    <tr>\n",
       "      <th>8</th>\n",
       "      <td>1970</td>\n",
       "      <td>Mexico</td>\n",
       "      <td>5/5</td>\n",
       "      <td>1603975.0</td>\n",
       "      <td>32</td>\n",
       "      <td>50124.0</td>\n",
       "      <td>108192</td>\n",
       "      <td>Estadio Azteca, Mexico City</td>\n",
       "      <td>Mexico 1–0 Belgium, group stage</td>\n",
       "    </tr>\n",
       "    <tr>\n",
       "      <th>9</th>\n",
       "      <td>1974</td>\n",
       "      <td>West Germany</td>\n",
       "      <td>9/9</td>\n",
       "      <td>1865753.0</td>\n",
       "      <td>38</td>\n",
       "      <td>49099.0</td>\n",
       "      <td>83168</td>\n",
       "      <td>Olympiastadion, Munich</td>\n",
       "      <td>West Germany 1–0 Chile, group stage</td>\n",
       "    </tr>\n",
       "    <tr>\n",
       "      <th>10</th>\n",
       "      <td>1978</td>\n",
       "      <td>Argentina</td>\n",
       "      <td>6/5</td>\n",
       "      <td>1545791.0</td>\n",
       "      <td>38</td>\n",
       "      <td>40679.0</td>\n",
       "      <td>71712</td>\n",
       "      <td>Estadio Monumental, Buenos Aires</td>\n",
       "      <td>Italy 1–0 Argentina, group stage</td>\n",
       "    </tr>\n",
       "    <tr>\n",
       "      <th>11</th>\n",
       "      <td>1982</td>\n",
       "      <td>Spain</td>\n",
       "      <td>17/14</td>\n",
       "      <td>2109723.0</td>\n",
       "      <td>52</td>\n",
       "      <td>40572.0</td>\n",
       "      <td>95500</td>\n",
       "      <td>Camp Nou, Barcelona</td>\n",
       "      <td>Argentina 0–1 Belgium, Opening match</td>\n",
       "    </tr>\n",
       "    <tr>\n",
       "      <th>12</th>\n",
       "      <td>1986</td>\n",
       "      <td>Mexico</td>\n",
       "      <td>12/11</td>\n",
       "      <td>2394031.0</td>\n",
       "      <td>52</td>\n",
       "      <td>46039.0</td>\n",
       "      <td>114600</td>\n",
       "      <td>Estadio Azteca, Mexico City</td>\n",
       "      <td>Mexico 1–1 Paraguay, group stage Argentina 3–2...</td>\n",
       "    </tr>\n",
       "    <tr>\n",
       "      <th>13</th>\n",
       "      <td>1990</td>\n",
       "      <td>Italy</td>\n",
       "      <td>12/12</td>\n",
       "      <td>2516215.0</td>\n",
       "      <td>52</td>\n",
       "      <td>48389.0</td>\n",
       "      <td>74765</td>\n",
       "      <td>San Siro, Milan</td>\n",
       "      <td>West Germany 4–1 Yugoslavia, group stage</td>\n",
       "    </tr>\n",
       "    <tr>\n",
       "      <th>14</th>\n",
       "      <td>1994</td>\n",
       "      <td>United States</td>\n",
       "      <td>9/9</td>\n",
       "      <td>3587538.0</td>\n",
       "      <td>52</td>\n",
       "      <td>68991.0</td>\n",
       "      <td>94194</td>\n",
       "      <td>Rose Bowl, Pasadena, California</td>\n",
       "      <td>Brazil 0–0 (3–2p) Italy, final</td>\n",
       "    </tr>\n",
       "    <tr>\n",
       "      <th>15</th>\n",
       "      <td>1998</td>\n",
       "      <td>France</td>\n",
       "      <td>10/10</td>\n",
       "      <td>2785100.0</td>\n",
       "      <td>64</td>\n",
       "      <td>43517.0</td>\n",
       "      <td>80000</td>\n",
       "      <td>Stade de France, Saint-Denis</td>\n",
       "      <td>Brazil 0–3 France, final</td>\n",
       "    </tr>\n",
       "    <tr>\n",
       "      <th>16</th>\n",
       "      <td>2002</td>\n",
       "      <td>South Korea  Japan</td>\n",
       "      <td>20/20</td>\n",
       "      <td>2705197.0</td>\n",
       "      <td>64</td>\n",
       "      <td>42269.0</td>\n",
       "      <td>69029</td>\n",
       "      <td>International Stadium, Yokohama, Japan</td>\n",
       "      <td>Brazil 2–0 Germany, final</td>\n",
       "    </tr>\n",
       "    <tr>\n",
       "      <th>17</th>\n",
       "      <td>2006</td>\n",
       "      <td>Germany</td>\n",
       "      <td>12/12</td>\n",
       "      <td>3359439.0</td>\n",
       "      <td>64</td>\n",
       "      <td>52491.0</td>\n",
       "      <td>72000</td>\n",
       "      <td>Olympiastadion, Berlin</td>\n",
       "      <td>Germany 1–1 (4–2p) Argentina, quarter-final</td>\n",
       "    </tr>\n",
       "    <tr>\n",
       "      <th>18</th>\n",
       "      <td>2010</td>\n",
       "      <td>South Africa</td>\n",
       "      <td>10/9</td>\n",
       "      <td>3178856.0</td>\n",
       "      <td>64</td>\n",
       "      <td>49670.0</td>\n",
       "      <td>84490</td>\n",
       "      <td>Soccer City, Johannesburg</td>\n",
       "      <td>Spain 1–0 Netherlands, final</td>\n",
       "    </tr>\n",
       "    <tr>\n",
       "      <th>19</th>\n",
       "      <td>2014</td>\n",
       "      <td>Brazil</td>\n",
       "      <td>12/12</td>\n",
       "      <td>3429873.0</td>\n",
       "      <td>64</td>\n",
       "      <td>53592.0</td>\n",
       "      <td>74738</td>\n",
       "      <td>Maracanã Stadium, Rio de Janeiro</td>\n",
       "      <td>Germany 1–0 Argentina, final</td>\n",
       "    </tr>\n",
       "    <tr>\n",
       "      <th>20</th>\n",
       "      <td>2018</td>\n",
       "      <td>Russia</td>\n",
       "      <td>12/11</td>\n",
       "      <td>3031768.0</td>\n",
       "      <td>64</td>\n",
       "      <td>47371.0</td>\n",
       "      <td>78011</td>\n",
       "      <td>Luzhniki Stadium, Moscow</td>\n",
       "      <td>France 4–2 Croatia, final</td>\n",
       "    </tr>\n",
       "    <tr>\n",
       "      <th>21</th>\n",
       "      <td>2022</td>\n",
       "      <td>Qatar</td>\n",
       "      <td>8/5</td>\n",
       "      <td>3404252.0</td>\n",
       "      <td>64</td>\n",
       "      <td>53191.0</td>\n",
       "      <td>88966</td>\n",
       "      <td>Lusail Stadium, Qatar</td>\n",
       "      <td>Argentina 3–3 (4–2p) France, final</td>\n",
       "    </tr>\n",
       "    <tr>\n",
       "      <th>22</th>\n",
       "      <td>2026</td>\n",
       "      <td>Canada  Mexico  United States</td>\n",
       "      <td>16/16</td>\n",
       "      <td>NaN</td>\n",
       "      <td>104</td>\n",
       "      <td>NaN</td>\n",
       "      <td>NaN</td>\n",
       "      <td>NaN</td>\n",
       "      <td>NaN</td>\n",
       "    </tr>\n",
       "    <tr>\n",
       "      <th>23</th>\n",
       "      <td>2030[n 1]</td>\n",
       "      <td>Morocco  Portugal  Spain</td>\n",
       "      <td>NaN</td>\n",
       "      <td>NaN</td>\n",
       "      <td>104</td>\n",
       "      <td>NaN</td>\n",
       "      <td>NaN</td>\n",
       "      <td>NaN</td>\n",
       "      <td>NaN</td>\n",
       "    </tr>\n",
       "    <tr>\n",
       "      <th>24</th>\n",
       "      <td>2034</td>\n",
       "      <td>Saudi Arabia</td>\n",
       "      <td>NaN</td>\n",
       "      <td>NaN</td>\n",
       "      <td>104</td>\n",
       "      <td>NaN</td>\n",
       "      <td>NaN</td>\n",
       "      <td>NaN</td>\n",
       "      <td>NaN</td>\n",
       "    </tr>\n",
       "    <tr>\n",
       "      <th>25</th>\n",
       "      <td>Overall</td>\n",
       "      <td>Overall</td>\n",
       "      <td>Overall</td>\n",
       "      <td>43936730.0</td>\n",
       "      <td>964</td>\n",
       "      <td>45577.0</td>\n",
       "      <td>173,850[95]</td>\n",
       "      <td>Maracanã Stadium, Rio de Janeiro (1950)</td>\n",
       "      <td>NaN</td>\n",
       "    </tr>\n",
       "  </tbody>\n",
       "</table>\n",
       "</div>"
      ],
      "text/plain": [
       "         Year                          Hosts Venues/ Cities  \\\n",
       "         Year                          Hosts Venues/ Cities   \n",
       "0        1930                        Uruguay            3/1   \n",
       "1        1934                          Italy            8/8   \n",
       "2        1938                         France           10/9   \n",
       "3        1950                         Brazil            6/6   \n",
       "4        1954                    Switzerland            6/6   \n",
       "5        1958                         Sweden          12/12   \n",
       "6        1962                          Chile            4/4   \n",
       "7        1966                        England            8/7   \n",
       "8        1970                         Mexico            5/5   \n",
       "9        1974                   West Germany            9/9   \n",
       "10       1978                      Argentina            6/5   \n",
       "11       1982                          Spain          17/14   \n",
       "12       1986                         Mexico          12/11   \n",
       "13       1990                          Italy          12/12   \n",
       "14       1994                  United States            9/9   \n",
       "15       1998                         France          10/10   \n",
       "16       2002             South Korea  Japan          20/20   \n",
       "17       2006                        Germany          12/12   \n",
       "18       2010                   South Africa           10/9   \n",
       "19       2014                         Brazil          12/12   \n",
       "20       2018                         Russia          12/11   \n",
       "21       2022                          Qatar            8/5   \n",
       "22       2026  Canada  Mexico  United States          16/16   \n",
       "23  2030[n 1]       Morocco  Portugal  Spain            NaN   \n",
       "24       2034                   Saudi Arabia            NaN   \n",
       "25    Overall                        Overall        Overall   \n",
       "\n",
       "   Total attendance † Matches Average attendance Highest attendances ‡  \\\n",
       "   Total attendance † Matches Average attendance                Number   \n",
       "0            590549.0      18            32808.0                 93000   \n",
       "1            363000.0      17            21353.0                 55000   \n",
       "2            375700.0      18            20872.0                 58455   \n",
       "3           1045246.0      22            47511.0           173,850[95]   \n",
       "4            768607.0      26            29562.0                 63000   \n",
       "5            819810.0      35            23423.0                 50928   \n",
       "6            893172.0      32            27912.0                 68679   \n",
       "7           1563135.0      32            48848.0                 98270   \n",
       "8           1603975.0      32            50124.0                108192   \n",
       "9           1865753.0      38            49099.0                 83168   \n",
       "10          1545791.0      38            40679.0                 71712   \n",
       "11          2109723.0      52            40572.0                 95500   \n",
       "12          2394031.0      52            46039.0                114600   \n",
       "13          2516215.0      52            48389.0                 74765   \n",
       "14          3587538.0      52            68991.0                 94194   \n",
       "15          2785100.0      64            43517.0                 80000   \n",
       "16          2705197.0      64            42269.0                 69029   \n",
       "17          3359439.0      64            52491.0                 72000   \n",
       "18          3178856.0      64            49670.0                 84490   \n",
       "19          3429873.0      64            53592.0                 74738   \n",
       "20          3031768.0      64            47371.0                 78011   \n",
       "21          3404252.0      64            53191.0                 88966   \n",
       "22                NaN     104                NaN                   NaN   \n",
       "23                NaN     104                NaN                   NaN   \n",
       "24                NaN     104                NaN                   NaN   \n",
       "25         43936730.0     964            45577.0           173,850[95]   \n",
       "\n",
       "                                             \\\n",
       "                                      Venue   \n",
       "0            Estadio Centenario, Montevideo   \n",
       "1                Stadio Nazionale PNF, Rome   \n",
       "2              Olympique de Colombes, Paris   \n",
       "3          Maracanã Stadium, Rio de Janeiro   \n",
       "4                    Wankdorf Stadium, Bern   \n",
       "5                Ullevi Stadium, Gothenburg   \n",
       "6                Estadio Nacional, Santiago   \n",
       "7                   Wembley Stadium, London   \n",
       "8               Estadio Azteca, Mexico City   \n",
       "9                    Olympiastadion, Munich   \n",
       "10         Estadio Monumental, Buenos Aires   \n",
       "11                      Camp Nou, Barcelona   \n",
       "12              Estadio Azteca, Mexico City   \n",
       "13                          San Siro, Milan   \n",
       "14          Rose Bowl, Pasadena, California   \n",
       "15             Stade de France, Saint-Denis   \n",
       "16   International Stadium, Yokohama, Japan   \n",
       "17                   Olympiastadion, Berlin   \n",
       "18                Soccer City, Johannesburg   \n",
       "19         Maracanã Stadium, Rio de Janeiro   \n",
       "20                 Luzhniki Stadium, Moscow   \n",
       "21                    Lusail Stadium, Qatar   \n",
       "22                                      NaN   \n",
       "23                                      NaN   \n",
       "24                                      NaN   \n",
       "25  Maracanã Stadium, Rio de Janeiro (1950)   \n",
       "\n",
       "                                                       \n",
       "                                              Game(s)  \n",
       "0                  Uruguay 6–1 Yugoslavia, semi-final  \n",
       "1                     Italy 2–1 Czechoslovakia, final  \n",
       "2                     France 1–3 Italy, quarter-final  \n",
       "3                  Brazil 1–2 Uruguay, deciding match  \n",
       "4                     West Germany 3–2 Hungary, final  \n",
       "5                Brazil 2–0 Soviet Union, group stage  \n",
       "6                        Brazil 4–2 Chile, semi-final  \n",
       "7                     England 4–2 West Germany, final  \n",
       "8                     Mexico 1–0 Belgium, group stage  \n",
       "9                 West Germany 1–0 Chile, group stage  \n",
       "10                   Italy 1–0 Argentina, group stage  \n",
       "11               Argentina 0–1 Belgium, Opening match  \n",
       "12  Mexico 1–1 Paraguay, group stage Argentina 3–2...  \n",
       "13           West Germany 4–1 Yugoslavia, group stage  \n",
       "14                     Brazil 0–0 (3–2p) Italy, final  \n",
       "15                           Brazil 0–3 France, final  \n",
       "16                          Brazil 2–0 Germany, final  \n",
       "17        Germany 1–1 (4–2p) Argentina, quarter-final  \n",
       "18                       Spain 1–0 Netherlands, final  \n",
       "19                       Germany 1–0 Argentina, final  \n",
       "20                          France 4–2 Croatia, final  \n",
       "21                 Argentina 3–3 (4–2p) France, final  \n",
       "22                                                NaN  \n",
       "23                                                NaN  \n",
       "24                                                NaN  \n",
       "25                                                NaN  "
      ]
     },
     "execution_count": 10,
     "metadata": {},
     "output_type": "execute_result"
    }
   ],
   "source": [
    "worldcup_tables[3]"
   ]
  },
  {
   "cell_type": "code",
   "execution_count": 11,
   "id": "8bf6a5a9-ec91-4d41-acd7-4ff22548e54a",
   "metadata": {},
   "outputs": [],
   "source": [
    "airport_endpoint = 'https://aviationweather.gov/api/data/airport'"
   ]
  },
  {
   "cell_type": "code",
   "execution_count": 12,
   "id": "3b9a4099-e74b-4a23-92ae-8a46f7d8ceba",
   "metadata": {},
   "outputs": [],
   "source": [
    "airport_query = '?ids=@WA&format=json'"
   ]
  },
  {
   "cell_type": "code",
   "execution_count": 13,
   "id": "ded6fae0-d8fe-47ca-9c57-026a06b025d8",
   "metadata": {},
   "outputs": [],
   "source": [
    "airport_response = requests.get(airport_endpoint + airport_query)"
   ]
  },
  {
   "cell_type": "code",
   "execution_count": 14,
   "id": "be3aa464-d04a-46fd-a0cc-b81cbf164358",
   "metadata": {},
   "outputs": [
    {
     "data": {
      "text/plain": [
       "200"
      ]
     },
     "execution_count": 14,
     "metadata": {},
     "output_type": "execute_result"
    }
   ],
   "source": [
    "airport_response.status_code"
   ]
  },
  {
   "cell_type": "code",
   "execution_count": 15,
   "id": "77b99b81-42f2-46e0-aaba-9cf143f7939b",
   "metadata": {},
   "outputs": [],
   "source": [
    "wa_airport_df = pd.DataFrame(json.loads(airport_response.text))"
   ]
  },
  {
   "cell_type": "code",
   "execution_count": 16,
   "id": "9e171d99-5ea8-44f0-8bb6-68327eb4d3dc",
   "metadata": {},
   "outputs": [
    {
     "data": {
      "text/html": [
       "<div>\n",
       "<style scoped>\n",
       "    .dataframe tbody tr th:only-of-type {\n",
       "        vertical-align: middle;\n",
       "    }\n",
       "\n",
       "    .dataframe tbody tr th {\n",
       "        vertical-align: top;\n",
       "    }\n",
       "\n",
       "    .dataframe thead th {\n",
       "        text-align: right;\n",
       "    }\n",
       "</style>\n",
       "<table border=\"1\" class=\"dataframe\">\n",
       "  <thead>\n",
       "    <tr style=\"text-align: right;\">\n",
       "      <th></th>\n",
       "      <th>ind</th>\n",
       "      <th>id</th>\n",
       "      <th>name</th>\n",
       "      <th>iata</th>\n",
       "      <th>source</th>\n",
       "      <th>state</th>\n",
       "      <th>country</th>\n",
       "      <th>type</th>\n",
       "      <th>lat</th>\n",
       "      <th>lon</th>\n",
       "      <th>...</th>\n",
       "      <th>rwy_num</th>\n",
       "      <th>rwy_len</th>\n",
       "      <th>rwy_type</th>\n",
       "      <th>services</th>\n",
       "      <th>tower</th>\n",
       "      <th>beacon</th>\n",
       "      <th>traffic</th>\n",
       "      <th>runways</th>\n",
       "      <th>freqs</th>\n",
       "      <th>passengers</th>\n",
       "    </tr>\n",
       "  </thead>\n",
       "  <tbody>\n",
       "    <tr>\n",
       "      <th>0</th>\n",
       "      <td>20386</td>\n",
       "      <td>KAWO</td>\n",
       "      <td>ARLINGTON/ARLINGTON_MUNI</td>\n",
       "      <td>AWO</td>\n",
       "      <td>FAA</td>\n",
       "      <td>WA</td>\n",
       "      <td>US</td>\n",
       "      <td>ARP</td>\n",
       "      <td>48.1608</td>\n",
       "      <td>-122.1590</td>\n",
       "      <td>...</td>\n",
       "      <td>2</td>\n",
       "      <td>M</td>\n",
       "      <td>A</td>\n",
       "      <td>S</td>\n",
       "      <td>-</td>\n",
       "      <td>B</td>\n",
       "      <td>67080</td>\n",
       "      <td>[{'id': '11/29', 'dimension': '3498x75', 'surf...</td>\n",
       "      <td>[{'type': '-'}]</td>\n",
       "      <td>NaN</td>\n",
       "    </tr>\n",
       "    <tr>\n",
       "      <th>1</th>\n",
       "      <td>20408</td>\n",
       "      <td>KBLI</td>\n",
       "      <td>BELLINGHAM/BELLINGHAM_INTL</td>\n",
       "      <td>BLI</td>\n",
       "      <td>FAA</td>\n",
       "      <td>WA</td>\n",
       "      <td>US</td>\n",
       "      <td>ARP</td>\n",
       "      <td>48.7927</td>\n",
       "      <td>-122.5375</td>\n",
       "      <td>...</td>\n",
       "      <td>1</td>\n",
       "      <td>M</td>\n",
       "      <td>A</td>\n",
       "      <td>S</td>\n",
       "      <td>T</td>\n",
       "      <td>B</td>\n",
       "      <td>74401</td>\n",
       "      <td>[{'id': '16/34', 'dimension': '6700x150', 'sur...</td>\n",
       "      <td>[{'type': 'LCL/P', 'freq': 124.9}, {'type': 'A...</td>\n",
       "      <td>0.65</td>\n",
       "    </tr>\n",
       "    <tr>\n",
       "      <th>2</th>\n",
       "      <td>20423</td>\n",
       "      <td>KPWT</td>\n",
       "      <td>BREMERTON/BREMERTON_NTL</td>\n",
       "      <td>PWT</td>\n",
       "      <td>FAA</td>\n",
       "      <td>WA</td>\n",
       "      <td>US</td>\n",
       "      <td>ARP</td>\n",
       "      <td>47.4902</td>\n",
       "      <td>-122.7648</td>\n",
       "      <td>...</td>\n",
       "      <td>1</td>\n",
       "      <td>M</td>\n",
       "      <td>A</td>\n",
       "      <td>S</td>\n",
       "      <td>-</td>\n",
       "      <td>B</td>\n",
       "      <td>66000</td>\n",
       "      <td>[{'id': '02/20', 'dimension': '6000x150', 'sur...</td>\n",
       "      <td>[{'type': '-'}]</td>\n",
       "      <td>NaN</td>\n",
       "    </tr>\n",
       "    <tr>\n",
       "      <th>3</th>\n",
       "      <td>20433</td>\n",
       "      <td>KBVS</td>\n",
       "      <td>BURLINGTON/MOUNT VERNON/SKAGIT_RGNL</td>\n",
       "      <td>BVS</td>\n",
       "      <td>FAA</td>\n",
       "      <td>WA</td>\n",
       "      <td>US</td>\n",
       "      <td>ARP</td>\n",
       "      <td>48.4705</td>\n",
       "      <td>-122.4217</td>\n",
       "      <td>...</td>\n",
       "      <td>2</td>\n",
       "      <td>M</td>\n",
       "      <td>A</td>\n",
       "      <td>S</td>\n",
       "      <td>-</td>\n",
       "      <td>B</td>\n",
       "      <td>61900</td>\n",
       "      <td>[{'id': '04/22', 'dimension': '3000x60', 'surf...</td>\n",
       "      <td>[{'type': '-'}]</td>\n",
       "      <td>NaN</td>\n",
       "    </tr>\n",
       "    <tr>\n",
       "      <th>4</th>\n",
       "      <td>20445</td>\n",
       "      <td>KCLS</td>\n",
       "      <td>CHEHALIS/CHEHALIS-CENTRALIA</td>\n",
       "      <td>CLS</td>\n",
       "      <td>FAA</td>\n",
       "      <td>WA</td>\n",
       "      <td>US</td>\n",
       "      <td>ARP</td>\n",
       "      <td>46.6770</td>\n",
       "      <td>-122.9828</td>\n",
       "      <td>...</td>\n",
       "      <td>1</td>\n",
       "      <td>M</td>\n",
       "      <td>C</td>\n",
       "      <td>S</td>\n",
       "      <td>-</td>\n",
       "      <td>B</td>\n",
       "      <td>47710</td>\n",
       "      <td>[{'id': '16/34', 'dimension': '5000x140', 'sur...</td>\n",
       "      <td>[{'type': '-'}]</td>\n",
       "      <td>NaN</td>\n",
       "    </tr>\n",
       "  </tbody>\n",
       "</table>\n",
       "<p>5 rows × 24 columns</p>\n",
       "</div>"
      ],
      "text/plain": [
       "     ind    id                                 name iata source state country  \\\n",
       "0  20386  KAWO             ARLINGTON/ARLINGTON_MUNI  AWO    FAA    WA      US   \n",
       "1  20408  KBLI           BELLINGHAM/BELLINGHAM_INTL  BLI    FAA    WA      US   \n",
       "2  20423  KPWT              BREMERTON/BREMERTON_NTL  PWT    FAA    WA      US   \n",
       "3  20433  KBVS  BURLINGTON/MOUNT VERNON/SKAGIT_RGNL  BVS    FAA    WA      US   \n",
       "4  20445  KCLS          CHEHALIS/CHEHALIS-CENTRALIA  CLS    FAA    WA      US   \n",
       "\n",
       "  type      lat       lon  ...  rwy_num  rwy_len rwy_type services  tower  \\\n",
       "0  ARP  48.1608 -122.1590  ...        2        M        A        S      -   \n",
       "1  ARP  48.7927 -122.5375  ...        1        M        A        S      T   \n",
       "2  ARP  47.4902 -122.7648  ...        1        M        A        S      -   \n",
       "3  ARP  48.4705 -122.4217  ...        2        M        A        S      -   \n",
       "4  ARP  46.6770 -122.9828  ...        1        M        C        S      -   \n",
       "\n",
       "  beacon traffic                                            runways  \\\n",
       "0      B   67080  [{'id': '11/29', 'dimension': '3498x75', 'surf...   \n",
       "1      B   74401  [{'id': '16/34', 'dimension': '6700x150', 'sur...   \n",
       "2      B   66000  [{'id': '02/20', 'dimension': '6000x150', 'sur...   \n",
       "3      B   61900  [{'id': '04/22', 'dimension': '3000x60', 'surf...   \n",
       "4      B   47710  [{'id': '16/34', 'dimension': '5000x140', 'sur...   \n",
       "\n",
       "                                               freqs passengers  \n",
       "0                                    [{'type': '-'}]        NaN  \n",
       "1  [{'type': 'LCL/P', 'freq': 124.9}, {'type': 'A...       0.65  \n",
       "2                                    [{'type': '-'}]        NaN  \n",
       "3                                    [{'type': '-'}]        NaN  \n",
       "4                                    [{'type': '-'}]        NaN  \n",
       "\n",
       "[5 rows x 24 columns]"
      ]
     },
     "execution_count": 16,
     "metadata": {},
     "output_type": "execute_result"
    }
   ],
   "source": [
    "wa_airport_df.head()"
   ]
  },
  {
   "cell_type": "code",
   "execution_count": 17,
   "id": "680cc34b-6db2-49d7-9269-4844e1083563",
   "metadata": {},
   "outputs": [
    {
     "data": {
      "text/plain": [
       "(45, 24)"
      ]
     },
     "execution_count": 17,
     "metadata": {},
     "output_type": "execute_result"
    }
   ],
   "source": [
    "wa_airport_df.shape"
   ]
  },
  {
   "cell_type": "code",
   "execution_count": 18,
   "id": "939d92aa-7900-4c78-aa8a-48d3c514d640",
   "metadata": {},
   "outputs": [
    {
     "data": {
      "text/plain": [
       "Index(['ind', 'id', 'name', 'iata', 'source', 'state', 'country', 'type',\n",
       "       'lat', 'lon', 'elev', 'prior', 'mag_dec', 'use', 'rwy_num', 'rwy_len',\n",
       "       'rwy_type', 'services', 'tower', 'beacon', 'traffic', 'runways',\n",
       "       'freqs', 'passengers'],\n",
       "      dtype='object')"
      ]
     },
     "execution_count": 18,
     "metadata": {},
     "output_type": "execute_result"
    }
   ],
   "source": [
    "wa_airport_df.columns"
   ]
  },
  {
   "cell_type": "code",
   "execution_count": 19,
   "id": "aa118f52-81e7-44a4-9632-3d4279cfa3c7",
   "metadata": {},
   "outputs": [],
   "source": [
    "import base64"
   ]
  },
  {
   "cell_type": "code",
   "execution_count": 20,
   "id": "88b9d59d-f489-46e7-8f67-1fe836fc3226",
   "metadata": {},
   "outputs": [],
   "source": [
    "creds = pd.read_csv(r\"C:\\Users\\dsilva2\\Spotify-Keys_9-12-23.txt\", header = 0, sep = ',')"
   ]
  },
  {
   "cell_type": "code",
   "execution_count": 21,
   "id": "a6c92dfc-de6e-4a3e-8142-a50735802df9",
   "metadata": {},
   "outputs": [],
   "source": [
    "# creds"
   ]
  },
  {
   "cell_type": "code",
   "execution_count": 22,
   "id": "21ba5d0b-7b76-4fea-9872-c0ac62a8b1b5",
   "metadata": {},
   "outputs": [],
   "source": [
    "appid = creds['Client_ID'][0]\n",
    "appsecret = creds['Client_Secret'][0]"
   ]
  },
  {
   "cell_type": "code",
   "execution_count": 23,
   "id": "e3b8ef9c-9e9e-41e6-97a6-f6a681017bb5",
   "metadata": {},
   "outputs": [],
   "source": [
    "# appid"
   ]
  },
  {
   "cell_type": "code",
   "execution_count": 24,
   "id": "9da37b1e-615a-4382-9726-fb61cb477acb",
   "metadata": {},
   "outputs": [],
   "source": [
    "# appsecret"
   ]
  },
  {
   "cell_type": "code",
   "execution_count": 25,
   "id": "7c1cac10-3c93-448b-97f3-7d5e40877b22",
   "metadata": {},
   "outputs": [],
   "source": [
    "client_cred = base64.b64encode(str(appid + \":\" + appsecret).encode('ascii'))"
   ]
  },
  {
   "cell_type": "code",
   "execution_count": 26,
   "id": "76c3ae95-36cd-429d-ba8d-e69d2500151e",
   "metadata": {},
   "outputs": [],
   "source": [
    "# client_cred"
   ]
  },
  {
   "cell_type": "code",
   "execution_count": 27,
   "id": "0411dbf6-507c-48fb-a2a9-4709f7bfae92",
   "metadata": {},
   "outputs": [
    {
     "data": {
      "text/plain": [
       "'Hello David Silva'"
      ]
     },
     "execution_count": 27,
     "metadata": {},
     "output_type": "execute_result"
    }
   ],
   "source": [
    "'Hello {} {}'.format('David', \"Silva\")"
   ]
  },
  {
   "cell_type": "code",
   "execution_count": 28,
   "id": "6971a743-f850-4585-9468-16c9e045b286",
   "metadata": {},
   "outputs": [],
   "source": [
    "header = {'Authorization': 'Basic {}'.format(client_cred.decode('ascii'))}"
   ]
  },
  {
   "cell_type": "code",
   "execution_count": 29,
   "id": "0d7c07ec-e229-448a-9379-021afb1b673b",
   "metadata": {},
   "outputs": [],
   "source": [
    "# header"
   ]
  },
  {
   "cell_type": "code",
   "execution_count": 30,
   "id": "05984142-e0b1-4bb0-ab97-8a487cefdb2c",
   "metadata": {},
   "outputs": [],
   "source": [
    "payload = {'grant_type': 'client_credentials'}\n",
    "auth_url = 'https://accounts.spotify.com/api/token'"
   ]
  },
  {
   "cell_type": "code",
   "execution_count": 31,
   "id": "a3b31a7e-2555-4b0d-8cad-d90f6af1cb7e",
   "metadata": {},
   "outputs": [],
   "source": [
    "auth_response = requests.post(url = auth_url, headers = header, data = payload)"
   ]
  },
  {
   "cell_type": "code",
   "execution_count": 32,
   "id": "6515d9a8-d10d-4416-b632-fd372d59582b",
   "metadata": {},
   "outputs": [
    {
     "data": {
      "text/plain": [
       "200"
      ]
     },
     "execution_count": 32,
     "metadata": {},
     "output_type": "execute_result"
    }
   ],
   "source": [
    "auth_response.status_code"
   ]
  },
  {
   "cell_type": "code",
   "execution_count": 33,
   "id": "84c5af84-218a-43a4-9439-7139b217dbcb",
   "metadata": {},
   "outputs": [],
   "source": [
    "# auth_response.text"
   ]
  },
  {
   "cell_type": "code",
   "execution_count": 34,
   "id": "68f1719a-809f-4c65-ba8f-c1d8c0353171",
   "metadata": {},
   "outputs": [],
   "source": [
    "session_token = json.loads(auth_response.text)['access_token']"
   ]
  },
  {
   "cell_type": "code",
   "execution_count": 35,
   "id": "b351f4bd-dd13-4b85-a08a-366e5e2a8585",
   "metadata": {},
   "outputs": [],
   "source": [
    "session_headers = {'Authorization': 'Bearer {}'.format(session_token)}"
   ]
  },
  {
   "cell_type": "code",
   "execution_count": 36,
   "id": "64f83c1d-14aa-44ec-ab3f-f18fde644f2e",
   "metadata": {},
   "outputs": [],
   "source": [
    "# requests.get(url = '', headers = session_headers)"
   ]
  },
  {
   "cell_type": "code",
   "execution_count": 37,
   "id": "185a0207-9085-464d-a182-5af6c908a9a0",
   "metadata": {},
   "outputs": [],
   "source": [
    "mordechi_id = '2IzUZlhtBvPQYs74KeG6fb'"
   ]
  },
  {
   "cell_type": "code",
   "execution_count": 38,
   "id": "aff7d385-ef8e-4246-a3ff-c7ba7ab6e254",
   "metadata": {},
   "outputs": [],
   "source": [
    "endpoint = \"https://api.spotify.com/v1/albums/{}/tracks\".format(mordechi_id)"
   ]
  },
  {
   "cell_type": "code",
   "execution_count": 39,
   "id": "c07fd84c-6d45-4107-a334-e55841e2fde6",
   "metadata": {},
   "outputs": [
    {
     "data": {
      "text/plain": [
       "'https://api.spotify.com/v1/albums/2IzUZlhtBvPQYs74KeG6fb/tracks'"
      ]
     },
     "execution_count": 39,
     "metadata": {},
     "output_type": "execute_result"
    }
   ],
   "source": [
    "endpoint"
   ]
  }
 ],
 "metadata": {
  "kernelspec": {
   "display_name": "Python 3 (ipykernel)",
   "language": "python",
   "name": "python3"
  },
  "language_info": {
   "codemirror_mode": {
    "name": "ipython",
    "version": 3
   },
   "file_extension": ".py",
   "mimetype": "text/x-python",
   "name": "python",
   "nbconvert_exporter": "python",
   "pygments_lexer": "ipython3",
   "version": "3.12.1"
  }
 },
 "nbformat": 4,
 "nbformat_minor": 5
}
