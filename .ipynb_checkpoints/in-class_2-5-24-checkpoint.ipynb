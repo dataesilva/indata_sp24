{
 "cells": [
  {
   "cell_type": "code",
   "execution_count": 1,
   "id": "bbacdaca-9309-4cba-880c-b489ecac8eda",
   "metadata": {},
   "outputs": [],
   "source": [
    "import pandas as pd\n",
    "import json"
   ]
  },
  {
   "cell_type": "code",
   "execution_count": 3,
   "id": "803fa25d-ce60-45b0-a1a4-4fda0eafa51b",
   "metadata": {},
   "outputs": [],
   "source": [
    "with open(\"Spotify_Montero_data.json\") as j:\n",
    "    montero = json.load(j)"
   ]
  },
  {
   "cell_type": "code",
   "execution_count": 5,
   "id": "79353b92-ebe9-4646-a07d-42657095b0cf",
   "metadata": {},
   "outputs": [
    {
     "data": {
      "text/plain": [
       "dict"
      ]
     },
     "execution_count": 5,
     "metadata": {},
     "output_type": "execute_result"
    }
   ],
   "source": [
    "type(montero)"
   ]
  },
  {
   "cell_type": "code",
   "execution_count": 6,
   "id": "632c3faf-a23f-4d4e-b491-ca1fe2e5797b",
   "metadata": {},
   "outputs": [
    {
     "data": {
      "text/plain": [
       "dict_keys(['album_type', 'artists', 'available_markets', 'copyrights', 'external_ids', 'external_urls', 'genres', 'href', 'id', 'images', 'label', 'name', 'popularity', 'release_date', 'release_date_precision', 'total_tracks', 'tracks', 'type', 'uri'])"
      ]
     },
     "execution_count": 6,
     "metadata": {},
     "output_type": "execute_result"
    }
   ],
   "source": [
    "montero.keys()"
   ]
  },
  {
   "cell_type": "code",
   "execution_count": 7,
   "id": "48306d5a-035b-4ed2-b719-9e54b822832f",
   "metadata": {},
   "outputs": [
    {
     "data": {
      "text/plain": [
       "82"
      ]
     },
     "execution_count": 7,
     "metadata": {},
     "output_type": "execute_result"
    }
   ],
   "source": [
    "montero['popularity']"
   ]
  },
  {
   "cell_type": "code",
   "execution_count": 8,
   "id": "57985476-1ee6-449b-960a-4c1a2dadd81b",
   "metadata": {},
   "outputs": [
    {
     "data": {
      "text/plain": [
       "'album'"
      ]
     },
     "execution_count": 8,
     "metadata": {},
     "output_type": "execute_result"
    }
   ],
   "source": [
    "montero['album_type']"
   ]
  },
  {
   "cell_type": "code",
   "execution_count": 10,
   "id": "888add37-83c3-4344-a1bd-e0171779bdf1",
   "metadata": {},
   "outputs": [
    {
     "data": {
      "text/plain": [
       "dict_keys(['href', 'items', 'limit', 'next', 'offset', 'previous', 'total'])"
      ]
     },
     "execution_count": 10,
     "metadata": {},
     "output_type": "execute_result"
    }
   ],
   "source": [
    "montero['tracks'].keys()"
   ]
  },
  {
   "cell_type": "code",
   "execution_count": 13,
   "id": "f20ab929-bd5a-48e0-a6da-280fe4d51635",
   "metadata": {},
   "outputs": [
    {
     "data": {
      "text/plain": [
       "list"
      ]
     },
     "execution_count": 13,
     "metadata": {},
     "output_type": "execute_result"
    }
   ],
   "source": [
    "type(montero['tracks']['items'])"
   ]
  },
  {
   "cell_type": "code",
   "execution_count": 15,
   "id": "14b62182-b17e-401a-b4a8-3f36d6965ef5",
   "metadata": {},
   "outputs": [
    {
     "data": {
      "text/plain": [
       "15"
      ]
     },
     "execution_count": 15,
     "metadata": {},
     "output_type": "execute_result"
    }
   ],
   "source": [
    "len(montero['tracks']['items'])"
   ]
  },
  {
   "cell_type": "code",
   "execution_count": 18,
   "id": "3019157c-bec5-496f-809f-be935f4c1242",
   "metadata": {},
   "outputs": [
    {
     "data": {
      "text/plain": [
       "dict_keys(['artists', 'available_markets', 'disc_number', 'duration_ms', 'explicit', 'external_urls', 'href', 'id', 'is_local', 'name', 'preview_url', 'track_number', 'type', 'uri'])"
      ]
     },
     "execution_count": 18,
     "metadata": {},
     "output_type": "execute_result"
    }
   ],
   "source": [
    "montero['tracks']['items'][0].keys()"
   ]
  },
  {
   "cell_type": "code",
   "execution_count": 24,
   "id": "6ec907d4-53b3-44a9-b79a-d1803c40c2c5",
   "metadata": {},
   "outputs": [],
   "source": [
    "df_montero = pd.DataFrame(montero['tracks']['items'])"
   ]
  },
  {
   "cell_type": "code",
   "execution_count": 26,
   "id": "16247242-106b-4689-b5fd-fe1799964bea",
   "metadata": {},
   "outputs": [
    {
     "data": {
      "text/html": [
       "<div>\n",
       "<style scoped>\n",
       "    .dataframe tbody tr th:only-of-type {\n",
       "        vertical-align: middle;\n",
       "    }\n",
       "\n",
       "    .dataframe tbody tr th {\n",
       "        vertical-align: top;\n",
       "    }\n",
       "\n",
       "    .dataframe thead th {\n",
       "        text-align: right;\n",
       "    }\n",
       "</style>\n",
       "<table border=\"1\" class=\"dataframe\">\n",
       "  <thead>\n",
       "    <tr style=\"text-align: right;\">\n",
       "      <th></th>\n",
       "      <th>artists</th>\n",
       "      <th>available_markets</th>\n",
       "      <th>disc_number</th>\n",
       "      <th>duration_ms</th>\n",
       "      <th>explicit</th>\n",
       "      <th>external_urls</th>\n",
       "      <th>href</th>\n",
       "      <th>id</th>\n",
       "      <th>is_local</th>\n",
       "      <th>name</th>\n",
       "      <th>preview_url</th>\n",
       "      <th>track_number</th>\n",
       "      <th>type</th>\n",
       "      <th>uri</th>\n",
       "    </tr>\n",
       "  </thead>\n",
       "  <tbody>\n",
       "    <tr>\n",
       "      <th>0</th>\n",
       "      <td>[{'external_urls': {'spotify': 'https://open.s...</td>\n",
       "      <td>[AD, AE, AG, AL, AM, AO, AR, AT, AU, AZ, BA, B...</td>\n",
       "      <td>1</td>\n",
       "      <td>137704</td>\n",
       "      <td>True</td>\n",
       "      <td>{'spotify': 'https://open.spotify.com/track/1S...</td>\n",
       "      <td>https://api.spotify.com/v1/tracks/1SC5rEoYDGUK...</td>\n",
       "      <td>1SC5rEoYDGUK4NfG82494W</td>\n",
       "      <td>False</td>\n",
       "      <td>MONTERO (Call Me By Your Name)</td>\n",
       "      <td>https://p.scdn.co/mp3-preview/a25aff06d2a2f2cf...</td>\n",
       "      <td>1</td>\n",
       "      <td>track</td>\n",
       "      <td>spotify:track:1SC5rEoYDGUK4NfG82494W</td>\n",
       "    </tr>\n",
       "    <tr>\n",
       "      <th>1</th>\n",
       "      <td>[{'external_urls': {'spotify': 'https://open.s...</td>\n",
       "      <td>[AD, AE, AG, AL, AM, AO, AR, AT, AU, AZ, BA, B...</td>\n",
       "      <td>1</td>\n",
       "      <td>221203</td>\n",
       "      <td>True</td>\n",
       "      <td>{'spotify': 'https://open.spotify.com/track/3g...</td>\n",
       "      <td>https://api.spotify.com/v1/tracks/3grVoZ10bm2j...</td>\n",
       "      <td>3grVoZ10bm2jUGpo7BxpuF</td>\n",
       "      <td>False</td>\n",
       "      <td>DEAD RIGHT NOW</td>\n",
       "      <td>https://p.scdn.co/mp3-preview/63edfe0701b3d240...</td>\n",
       "      <td>2</td>\n",
       "      <td>track</td>\n",
       "      <td>spotify:track:3grVoZ10bm2jUGpo7BxpuF</td>\n",
       "    </tr>\n",
       "    <tr>\n",
       "      <th>2</th>\n",
       "      <td>[{'external_urls': {'spotify': 'https://open.s...</td>\n",
       "      <td>[AD, AE, AG, AL, AM, AO, AR, AT, AU, AZ, BA, B...</td>\n",
       "      <td>1</td>\n",
       "      <td>212352</td>\n",
       "      <td>True</td>\n",
       "      <td>{'spotify': 'https://open.spotify.com/track/5Z...</td>\n",
       "      <td>https://api.spotify.com/v1/tracks/5Z9KJZvQzH6P...</td>\n",
       "      <td>5Z9KJZvQzH6PFmb8SNkxuk</td>\n",
       "      <td>False</td>\n",
       "      <td>INDUSTRY BABY (feat. Jack Harlow)</td>\n",
       "      <td>https://p.scdn.co/mp3-preview/31e16e1bc7aad79a...</td>\n",
       "      <td>3</td>\n",
       "      <td>track</td>\n",
       "      <td>spotify:track:5Z9KJZvQzH6PFmb8SNkxuk</td>\n",
       "    </tr>\n",
       "    <tr>\n",
       "      <th>3</th>\n",
       "      <td>[{'external_urls': {'spotify': 'https://open.s...</td>\n",
       "      <td>[AD, AE, AG, AL, AM, AO, AR, AT, AU, AZ, BA, B...</td>\n",
       "      <td>1</td>\n",
       "      <td>143901</td>\n",
       "      <td>True</td>\n",
       "      <td>{'spotify': 'https://open.spotify.com/track/0e...</td>\n",
       "      <td>https://api.spotify.com/v1/tracks/0e8nrvls4Qqv...</td>\n",
       "      <td>0e8nrvls4Qqv5Rfa2UhqmO</td>\n",
       "      <td>False</td>\n",
       "      <td>THATS WHAT I WANT</td>\n",
       "      <td>https://p.scdn.co/mp3-preview/d62f4961618e4b4d...</td>\n",
       "      <td>4</td>\n",
       "      <td>track</td>\n",
       "      <td>spotify:track:0e8nrvls4Qqv5Rfa2UhqmO</td>\n",
       "    </tr>\n",
       "    <tr>\n",
       "      <th>4</th>\n",
       "      <td>[{'external_urls': {'spotify': 'https://open.s...</td>\n",
       "      <td>[AD, AE, AG, AL, AM, AO, AR, AT, AU, AZ, BA, B...</td>\n",
       "      <td>1</td>\n",
       "      <td>24005</td>\n",
       "      <td>False</td>\n",
       "      <td>{'spotify': 'https://open.spotify.com/track/1B...</td>\n",
       "      <td>https://api.spotify.com/v1/tracks/1BMu5TWvalAG...</td>\n",
       "      <td>1BMu5TWvalAGpi5jlhFEBb</td>\n",
       "      <td>False</td>\n",
       "      <td>THE ART OF REALIZATION</td>\n",
       "      <td>https://p.scdn.co/mp3-preview/48abace5e799d0cd...</td>\n",
       "      <td>5</td>\n",
       "      <td>track</td>\n",
       "      <td>spotify:track:1BMu5TWvalAGpi5jlhFEBb</td>\n",
       "    </tr>\n",
       "  </tbody>\n",
       "</table>\n",
       "</div>"
      ],
      "text/plain": [
       "                                             artists  \\\n",
       "0  [{'external_urls': {'spotify': 'https://open.s...   \n",
       "1  [{'external_urls': {'spotify': 'https://open.s...   \n",
       "2  [{'external_urls': {'spotify': 'https://open.s...   \n",
       "3  [{'external_urls': {'spotify': 'https://open.s...   \n",
       "4  [{'external_urls': {'spotify': 'https://open.s...   \n",
       "\n",
       "                                   available_markets  disc_number  \\\n",
       "0  [AD, AE, AG, AL, AM, AO, AR, AT, AU, AZ, BA, B...            1   \n",
       "1  [AD, AE, AG, AL, AM, AO, AR, AT, AU, AZ, BA, B...            1   \n",
       "2  [AD, AE, AG, AL, AM, AO, AR, AT, AU, AZ, BA, B...            1   \n",
       "3  [AD, AE, AG, AL, AM, AO, AR, AT, AU, AZ, BA, B...            1   \n",
       "4  [AD, AE, AG, AL, AM, AO, AR, AT, AU, AZ, BA, B...            1   \n",
       "\n",
       "   duration_ms  explicit                                      external_urls  \\\n",
       "0       137704      True  {'spotify': 'https://open.spotify.com/track/1S...   \n",
       "1       221203      True  {'spotify': 'https://open.spotify.com/track/3g...   \n",
       "2       212352      True  {'spotify': 'https://open.spotify.com/track/5Z...   \n",
       "3       143901      True  {'spotify': 'https://open.spotify.com/track/0e...   \n",
       "4        24005     False  {'spotify': 'https://open.spotify.com/track/1B...   \n",
       "\n",
       "                                                href                      id  \\\n",
       "0  https://api.spotify.com/v1/tracks/1SC5rEoYDGUK...  1SC5rEoYDGUK4NfG82494W   \n",
       "1  https://api.spotify.com/v1/tracks/3grVoZ10bm2j...  3grVoZ10bm2jUGpo7BxpuF   \n",
       "2  https://api.spotify.com/v1/tracks/5Z9KJZvQzH6P...  5Z9KJZvQzH6PFmb8SNkxuk   \n",
       "3  https://api.spotify.com/v1/tracks/0e8nrvls4Qqv...  0e8nrvls4Qqv5Rfa2UhqmO   \n",
       "4  https://api.spotify.com/v1/tracks/1BMu5TWvalAG...  1BMu5TWvalAGpi5jlhFEBb   \n",
       "\n",
       "   is_local                               name  \\\n",
       "0     False     MONTERO (Call Me By Your Name)   \n",
       "1     False                     DEAD RIGHT NOW   \n",
       "2     False  INDUSTRY BABY (feat. Jack Harlow)   \n",
       "3     False                  THATS WHAT I WANT   \n",
       "4     False             THE ART OF REALIZATION   \n",
       "\n",
       "                                         preview_url  track_number   type  \\\n",
       "0  https://p.scdn.co/mp3-preview/a25aff06d2a2f2cf...             1  track   \n",
       "1  https://p.scdn.co/mp3-preview/63edfe0701b3d240...             2  track   \n",
       "2  https://p.scdn.co/mp3-preview/31e16e1bc7aad79a...             3  track   \n",
       "3  https://p.scdn.co/mp3-preview/d62f4961618e4b4d...             4  track   \n",
       "4  https://p.scdn.co/mp3-preview/48abace5e799d0cd...             5  track   \n",
       "\n",
       "                                    uri  \n",
       "0  spotify:track:1SC5rEoYDGUK4NfG82494W  \n",
       "1  spotify:track:3grVoZ10bm2jUGpo7BxpuF  \n",
       "2  spotify:track:5Z9KJZvQzH6PFmb8SNkxuk  \n",
       "3  spotify:track:0e8nrvls4Qqv5Rfa2UhqmO  \n",
       "4  spotify:track:1BMu5TWvalAGpi5jlhFEBb  "
      ]
     },
     "execution_count": 26,
     "metadata": {},
     "output_type": "execute_result"
    }
   ],
   "source": [
    "df_montero.head()"
   ]
  },
  {
   "cell_type": "code",
   "execution_count": 35,
   "id": "6e35267e-93bf-4331-9607-6f802cfba007",
   "metadata": {},
   "outputs": [
    {
     "data": {
      "text/plain": [
       "dict_keys(['external_urls', 'href', 'id', 'name', 'type', 'uri'])"
      ]
     },
     "execution_count": 35,
     "metadata": {},
     "output_type": "execute_result"
    }
   ],
   "source": [
    "montero['tracks']['items'][0]['artists'][0].keys()"
   ]
  },
  {
   "cell_type": "code",
   "execution_count": 36,
   "id": "48c735b6-9916-4a75-a6a4-bd2a649af90c",
   "metadata": {},
   "outputs": [
    {
     "data": {
      "text/plain": [
       "'Lil Nas X'"
      ]
     },
     "execution_count": 36,
     "metadata": {},
     "output_type": "execute_result"
    }
   ],
   "source": [
    "montero['tracks']['items'][0]['artists'][0]['name']"
   ]
  },
  {
   "cell_type": "code",
   "execution_count": 37,
   "id": "d5b20013-0815-4557-b0fa-653865c3503c",
   "metadata": {},
   "outputs": [
    {
     "data": {
      "text/html": [
       "<div>\n",
       "<style scoped>\n",
       "    .dataframe tbody tr th:only-of-type {\n",
       "        vertical-align: middle;\n",
       "    }\n",
       "\n",
       "    .dataframe tbody tr th {\n",
       "        vertical-align: top;\n",
       "    }\n",
       "\n",
       "    .dataframe thead th {\n",
       "        text-align: right;\n",
       "    }\n",
       "</style>\n",
       "<table border=\"1\" class=\"dataframe\">\n",
       "  <thead>\n",
       "    <tr style=\"text-align: right;\">\n",
       "      <th></th>\n",
       "      <th>external_urls</th>\n",
       "      <th>href</th>\n",
       "      <th>id</th>\n",
       "      <th>name</th>\n",
       "      <th>type</th>\n",
       "      <th>uri</th>\n",
       "    </tr>\n",
       "  </thead>\n",
       "  <tbody>\n",
       "    <tr>\n",
       "      <th>0</th>\n",
       "      <td>{'spotify': 'https://open.spotify.com/artist/7...</td>\n",
       "      <td>https://api.spotify.com/v1/artists/7jVv8c5Fj3E...</td>\n",
       "      <td>7jVv8c5Fj3E9VhNjxT4snq</td>\n",
       "      <td>Lil Nas X</td>\n",
       "      <td>artist</td>\n",
       "      <td>spotify:artist:7jVv8c5Fj3E9VhNjxT4snq</td>\n",
       "    </tr>\n",
       "  </tbody>\n",
       "</table>\n",
       "</div>"
      ],
      "text/plain": [
       "                                       external_urls  \\\n",
       "0  {'spotify': 'https://open.spotify.com/artist/7...   \n",
       "\n",
       "                                                href                      id  \\\n",
       "0  https://api.spotify.com/v1/artists/7jVv8c5Fj3E...  7jVv8c5Fj3E9VhNjxT4snq   \n",
       "\n",
       "        name    type                                    uri  \n",
       "0  Lil Nas X  artist  spotify:artist:7jVv8c5Fj3E9VhNjxT4snq  "
      ]
     },
     "execution_count": 37,
     "metadata": {},
     "output_type": "execute_result"
    }
   ],
   "source": [
    "test_df = pd.DataFrame(montero['tracks']['items'][0]['artists'])\n",
    "test_df"
   ]
  },
  {
   "cell_type": "code",
   "execution_count": null,
   "id": "3991b8f9-6510-44bd-9f2c-e467e8154e5a",
   "metadata": {},
   "outputs": [],
   "source": [
    "x for x in "
   ]
  },
  {
   "cell_type": "code",
   "execution_count": 57,
   "id": "88ee2cb7-9f68-4823-bd64-ba7212fc3d6f",
   "metadata": {},
   "outputs": [
    {
     "ename": "KeyError",
     "evalue": "0",
     "output_type": "error",
     "traceback": [
      "\u001b[1;31m---------------------------------------------------------------------------\u001b[0m",
      "\u001b[1;31mKeyError\u001b[0m                                  Traceback (most recent call last)",
      "Cell \u001b[1;32mIn[57], line 1\u001b[0m\n\u001b[1;32m----> 1\u001b[0m [\u001b[43mx\u001b[49m\u001b[43m[\u001b[49m\u001b[38;5;241;43m0\u001b[39;49m\u001b[43m]\u001b[49m[\u001b[38;5;124m'\u001b[39m\u001b[38;5;124martists\u001b[39m\u001b[38;5;124m'\u001b[39m][\u001b[38;5;241m0\u001b[39m][\u001b[38;5;124m'\u001b[39m\u001b[38;5;124mname\u001b[39m\u001b[38;5;124m'\u001b[39m] \u001b[38;5;28;01mfor\u001b[39;00m x \u001b[38;5;129;01min\u001b[39;00m montero[\u001b[38;5;124m'\u001b[39m\u001b[38;5;124mtracks\u001b[39m\u001b[38;5;124m'\u001b[39m][\u001b[38;5;124m'\u001b[39m\u001b[38;5;124mitems\u001b[39m\u001b[38;5;124m'\u001b[39m]]\n",
      "\u001b[1;31mKeyError\u001b[0m: 0"
     ]
    }
   ],
   "source": [
    "[x[0]['artists'][0]['name'] for x in montero['tracks']['items']]"
   ]
  },
  {
   "cell_type": "code",
   "execution_count": 50,
   "id": "dd93e10a-fa28-4a13-9738-3702099177ee",
   "metadata": {},
   "outputs": [],
   "source": [
    "my_list = [1, 2, 3, 4, 5]"
   ]
  },
  {
   "cell_type": "code",
   "execution_count": 51,
   "id": "90edb2e7-8213-43e1-9230-03705783aa84",
   "metadata": {},
   "outputs": [
    {
     "data": {
      "text/plain": [
       "[4, 5, 6, 7, 8]"
      ]
     },
     "execution_count": 51,
     "metadata": {},
     "output_type": "execute_result"
    }
   ],
   "source": [
    "[x+3 for x in my_list]"
   ]
  },
  {
   "cell_type": "code",
   "execution_count": 55,
   "id": "19c141bb-9ea3-4115-a1db-53ac41fc14a6",
   "metadata": {},
   "outputs": [],
   "source": [
    "artists = [x[0]['name'] for x in df_montero['artists']]"
   ]
  },
  {
   "cell_type": "code",
   "execution_count": 56,
   "id": "6396e3d3-307c-4e7a-9e6e-6af1d5c1f71b",
   "metadata": {},
   "outputs": [
    {
     "data": {
      "text/plain": [
       "['Lil Nas X',\n",
       " 'Lil Nas X',\n",
       " 'Lil Nas X',\n",
       " 'Lil Nas X',\n",
       " 'Lil Nas X',\n",
       " 'Lil Nas X',\n",
       " 'Lil Nas X',\n",
       " 'Lil Nas X',\n",
       " 'Lil Nas X',\n",
       " 'Lil Nas X',\n",
       " 'Lil Nas X',\n",
       " 'Lil Nas X',\n",
       " 'Lil Nas X',\n",
       " 'Lil Nas X',\n",
       " 'Lil Nas X']"
      ]
     },
     "execution_count": 56,
     "metadata": {},
     "output_type": "execute_result"
    }
   ],
   "source": [
    "artists"
   ]
  },
  {
   "cell_type": "code",
   "execution_count": 58,
   "id": "fa0b3f6b-49fc-4730-bc1e-1abbb7339f0a",
   "metadata": {},
   "outputs": [],
   "source": [
    "df_montero['artist_name'] = artists"
   ]
  },
  {
   "cell_type": "code",
   "execution_count": 59,
   "id": "dc142fd7-13b8-4482-b4c2-3c091ea9bca4",
   "metadata": {},
   "outputs": [
    {
     "data": {
      "text/html": [
       "<div>\n",
       "<style scoped>\n",
       "    .dataframe tbody tr th:only-of-type {\n",
       "        vertical-align: middle;\n",
       "    }\n",
       "\n",
       "    .dataframe tbody tr th {\n",
       "        vertical-align: top;\n",
       "    }\n",
       "\n",
       "    .dataframe thead th {\n",
       "        text-align: right;\n",
       "    }\n",
       "</style>\n",
       "<table border=\"1\" class=\"dataframe\">\n",
       "  <thead>\n",
       "    <tr style=\"text-align: right;\">\n",
       "      <th></th>\n",
       "      <th>artists</th>\n",
       "      <th>available_markets</th>\n",
       "      <th>disc_number</th>\n",
       "      <th>duration_ms</th>\n",
       "      <th>explicit</th>\n",
       "      <th>external_urls</th>\n",
       "      <th>href</th>\n",
       "      <th>id</th>\n",
       "      <th>is_local</th>\n",
       "      <th>name</th>\n",
       "      <th>preview_url</th>\n",
       "      <th>track_number</th>\n",
       "      <th>type</th>\n",
       "      <th>uri</th>\n",
       "      <th>artist_name</th>\n",
       "    </tr>\n",
       "  </thead>\n",
       "  <tbody>\n",
       "    <tr>\n",
       "      <th>0</th>\n",
       "      <td>[{'external_urls': {'spotify': 'https://open.s...</td>\n",
       "      <td>[AD, AE, AG, AL, AM, AO, AR, AT, AU, AZ, BA, B...</td>\n",
       "      <td>1</td>\n",
       "      <td>137704</td>\n",
       "      <td>True</td>\n",
       "      <td>{'spotify': 'https://open.spotify.com/track/1S...</td>\n",
       "      <td>https://api.spotify.com/v1/tracks/1SC5rEoYDGUK...</td>\n",
       "      <td>1SC5rEoYDGUK4NfG82494W</td>\n",
       "      <td>False</td>\n",
       "      <td>MONTERO (Call Me By Your Name)</td>\n",
       "      <td>https://p.scdn.co/mp3-preview/a25aff06d2a2f2cf...</td>\n",
       "      <td>1</td>\n",
       "      <td>track</td>\n",
       "      <td>spotify:track:1SC5rEoYDGUK4NfG82494W</td>\n",
       "      <td>Lil Nas X</td>\n",
       "    </tr>\n",
       "    <tr>\n",
       "      <th>1</th>\n",
       "      <td>[{'external_urls': {'spotify': 'https://open.s...</td>\n",
       "      <td>[AD, AE, AG, AL, AM, AO, AR, AT, AU, AZ, BA, B...</td>\n",
       "      <td>1</td>\n",
       "      <td>221203</td>\n",
       "      <td>True</td>\n",
       "      <td>{'spotify': 'https://open.spotify.com/track/3g...</td>\n",
       "      <td>https://api.spotify.com/v1/tracks/3grVoZ10bm2j...</td>\n",
       "      <td>3grVoZ10bm2jUGpo7BxpuF</td>\n",
       "      <td>False</td>\n",
       "      <td>DEAD RIGHT NOW</td>\n",
       "      <td>https://p.scdn.co/mp3-preview/63edfe0701b3d240...</td>\n",
       "      <td>2</td>\n",
       "      <td>track</td>\n",
       "      <td>spotify:track:3grVoZ10bm2jUGpo7BxpuF</td>\n",
       "      <td>Lil Nas X</td>\n",
       "    </tr>\n",
       "    <tr>\n",
       "      <th>2</th>\n",
       "      <td>[{'external_urls': {'spotify': 'https://open.s...</td>\n",
       "      <td>[AD, AE, AG, AL, AM, AO, AR, AT, AU, AZ, BA, B...</td>\n",
       "      <td>1</td>\n",
       "      <td>212352</td>\n",
       "      <td>True</td>\n",
       "      <td>{'spotify': 'https://open.spotify.com/track/5Z...</td>\n",
       "      <td>https://api.spotify.com/v1/tracks/5Z9KJZvQzH6P...</td>\n",
       "      <td>5Z9KJZvQzH6PFmb8SNkxuk</td>\n",
       "      <td>False</td>\n",
       "      <td>INDUSTRY BABY (feat. Jack Harlow)</td>\n",
       "      <td>https://p.scdn.co/mp3-preview/31e16e1bc7aad79a...</td>\n",
       "      <td>3</td>\n",
       "      <td>track</td>\n",
       "      <td>spotify:track:5Z9KJZvQzH6PFmb8SNkxuk</td>\n",
       "      <td>Lil Nas X</td>\n",
       "    </tr>\n",
       "    <tr>\n",
       "      <th>3</th>\n",
       "      <td>[{'external_urls': {'spotify': 'https://open.s...</td>\n",
       "      <td>[AD, AE, AG, AL, AM, AO, AR, AT, AU, AZ, BA, B...</td>\n",
       "      <td>1</td>\n",
       "      <td>143901</td>\n",
       "      <td>True</td>\n",
       "      <td>{'spotify': 'https://open.spotify.com/track/0e...</td>\n",
       "      <td>https://api.spotify.com/v1/tracks/0e8nrvls4Qqv...</td>\n",
       "      <td>0e8nrvls4Qqv5Rfa2UhqmO</td>\n",
       "      <td>False</td>\n",
       "      <td>THATS WHAT I WANT</td>\n",
       "      <td>https://p.scdn.co/mp3-preview/d62f4961618e4b4d...</td>\n",
       "      <td>4</td>\n",
       "      <td>track</td>\n",
       "      <td>spotify:track:0e8nrvls4Qqv5Rfa2UhqmO</td>\n",
       "      <td>Lil Nas X</td>\n",
       "    </tr>\n",
       "    <tr>\n",
       "      <th>4</th>\n",
       "      <td>[{'external_urls': {'spotify': 'https://open.s...</td>\n",
       "      <td>[AD, AE, AG, AL, AM, AO, AR, AT, AU, AZ, BA, B...</td>\n",
       "      <td>1</td>\n",
       "      <td>24005</td>\n",
       "      <td>False</td>\n",
       "      <td>{'spotify': 'https://open.spotify.com/track/1B...</td>\n",
       "      <td>https://api.spotify.com/v1/tracks/1BMu5TWvalAG...</td>\n",
       "      <td>1BMu5TWvalAGpi5jlhFEBb</td>\n",
       "      <td>False</td>\n",
       "      <td>THE ART OF REALIZATION</td>\n",
       "      <td>https://p.scdn.co/mp3-preview/48abace5e799d0cd...</td>\n",
       "      <td>5</td>\n",
       "      <td>track</td>\n",
       "      <td>spotify:track:1BMu5TWvalAGpi5jlhFEBb</td>\n",
       "      <td>Lil Nas X</td>\n",
       "    </tr>\n",
       "  </tbody>\n",
       "</table>\n",
       "</div>"
      ],
      "text/plain": [
       "                                             artists  \\\n",
       "0  [{'external_urls': {'spotify': 'https://open.s...   \n",
       "1  [{'external_urls': {'spotify': 'https://open.s...   \n",
       "2  [{'external_urls': {'spotify': 'https://open.s...   \n",
       "3  [{'external_urls': {'spotify': 'https://open.s...   \n",
       "4  [{'external_urls': {'spotify': 'https://open.s...   \n",
       "\n",
       "                                   available_markets  disc_number  \\\n",
       "0  [AD, AE, AG, AL, AM, AO, AR, AT, AU, AZ, BA, B...            1   \n",
       "1  [AD, AE, AG, AL, AM, AO, AR, AT, AU, AZ, BA, B...            1   \n",
       "2  [AD, AE, AG, AL, AM, AO, AR, AT, AU, AZ, BA, B...            1   \n",
       "3  [AD, AE, AG, AL, AM, AO, AR, AT, AU, AZ, BA, B...            1   \n",
       "4  [AD, AE, AG, AL, AM, AO, AR, AT, AU, AZ, BA, B...            1   \n",
       "\n",
       "   duration_ms  explicit                                      external_urls  \\\n",
       "0       137704      True  {'spotify': 'https://open.spotify.com/track/1S...   \n",
       "1       221203      True  {'spotify': 'https://open.spotify.com/track/3g...   \n",
       "2       212352      True  {'spotify': 'https://open.spotify.com/track/5Z...   \n",
       "3       143901      True  {'spotify': 'https://open.spotify.com/track/0e...   \n",
       "4        24005     False  {'spotify': 'https://open.spotify.com/track/1B...   \n",
       "\n",
       "                                                href                      id  \\\n",
       "0  https://api.spotify.com/v1/tracks/1SC5rEoYDGUK...  1SC5rEoYDGUK4NfG82494W   \n",
       "1  https://api.spotify.com/v1/tracks/3grVoZ10bm2j...  3grVoZ10bm2jUGpo7BxpuF   \n",
       "2  https://api.spotify.com/v1/tracks/5Z9KJZvQzH6P...  5Z9KJZvQzH6PFmb8SNkxuk   \n",
       "3  https://api.spotify.com/v1/tracks/0e8nrvls4Qqv...  0e8nrvls4Qqv5Rfa2UhqmO   \n",
       "4  https://api.spotify.com/v1/tracks/1BMu5TWvalAG...  1BMu5TWvalAGpi5jlhFEBb   \n",
       "\n",
       "   is_local                               name  \\\n",
       "0     False     MONTERO (Call Me By Your Name)   \n",
       "1     False                     DEAD RIGHT NOW   \n",
       "2     False  INDUSTRY BABY (feat. Jack Harlow)   \n",
       "3     False                  THATS WHAT I WANT   \n",
       "4     False             THE ART OF REALIZATION   \n",
       "\n",
       "                                         preview_url  track_number   type  \\\n",
       "0  https://p.scdn.co/mp3-preview/a25aff06d2a2f2cf...             1  track   \n",
       "1  https://p.scdn.co/mp3-preview/63edfe0701b3d240...             2  track   \n",
       "2  https://p.scdn.co/mp3-preview/31e16e1bc7aad79a...             3  track   \n",
       "3  https://p.scdn.co/mp3-preview/d62f4961618e4b4d...             4  track   \n",
       "4  https://p.scdn.co/mp3-preview/48abace5e799d0cd...             5  track   \n",
       "\n",
       "                                    uri artist_name  \n",
       "0  spotify:track:1SC5rEoYDGUK4NfG82494W   Lil Nas X  \n",
       "1  spotify:track:3grVoZ10bm2jUGpo7BxpuF   Lil Nas X  \n",
       "2  spotify:track:5Z9KJZvQzH6PFmb8SNkxuk   Lil Nas X  \n",
       "3  spotify:track:0e8nrvls4Qqv5Rfa2UhqmO   Lil Nas X  \n",
       "4  spotify:track:1BMu5TWvalAGpi5jlhFEBb   Lil Nas X  "
      ]
     },
     "execution_count": 59,
     "metadata": {},
     "output_type": "execute_result"
    }
   ],
   "source": [
    "df_montero.head()"
   ]
  },
  {
   "cell_type": "code",
   "execution_count": 63,
   "id": "772ea0c5-8bf6-4b66-9ebf-5d8bfb6bf93c",
   "metadata": {},
   "outputs": [],
   "source": [
    "names = [[x['name'] for x in k] for k in df_montero['artists']]"
   ]
  },
  {
   "cell_type": "code",
   "execution_count": 70,
   "id": "5f97c86d-d5f7-4811-a1dc-a87d819d47c2",
   "metadata": {},
   "outputs": [],
   "source": [
    "df_montero['artist_names'] = [', '.join(x) for x in names]"
   ]
  },
  {
   "cell_type": "code",
   "execution_count": 71,
   "id": "83f66d0c-6d32-4cf1-b0be-a6b572c014c7",
   "metadata": {},
   "outputs": [
    {
     "data": {
      "text/plain": [
       "0                          Lil Nas X\n",
       "1                          Lil Nas X\n",
       "2             Lil Nas X, Jack Harlow\n",
       "3                          Lil Nas X\n",
       "4                          Lil Nas X\n",
       "5                Lil Nas X, Doja Cat\n",
       "6              Lil Nas X, Elton John\n",
       "7                          Lil Nas X\n",
       "8     Lil Nas X, Megan Thee Stallion\n",
       "9                          Lil Nas X\n",
       "10                         Lil Nas X\n",
       "11                         Lil Nas X\n",
       "12                         Lil Nas X\n",
       "13                         Lil Nas X\n",
       "14            Lil Nas X, Miley Cyrus\n",
       "Name: artist_names, dtype: object"
      ]
     },
     "execution_count": 71,
     "metadata": {},
     "output_type": "execute_result"
    }
   ],
   "source": [
    "df_montero['artist_names']"
   ]
  },
  {
   "cell_type": "code",
   "execution_count": 73,
   "id": "411509f5-c2bb-4c1f-a2ca-cb348fec99ee",
   "metadata": {},
   "outputs": [
    {
     "data": {
      "text/plain": [
       "['Lil Nas X',\n",
       " 'Lil Nas X',\n",
       " 'Lil Nas X, Jack Harlow',\n",
       " 'Lil Nas X',\n",
       " 'Lil Nas X',\n",
       " 'Lil Nas X, Doja Cat',\n",
       " 'Lil Nas X, Elton John',\n",
       " 'Lil Nas X',\n",
       " 'Lil Nas X, Megan Thee Stallion',\n",
       " 'Lil Nas X',\n",
       " 'Lil Nas X',\n",
       " 'Lil Nas X',\n",
       " 'Lil Nas X',\n",
       " 'Lil Nas X',\n",
       " 'Lil Nas X, Miley Cyrus']"
      ]
     },
     "execution_count": 73,
     "metadata": {},
     "output_type": "execute_result"
    }
   ],
   "source": [
    "names = [', '.join([x['name'] for x in k]) for k in df_montero['artists']]\n",
    "names"
   ]
  }
 ],
 "metadata": {
  "kernelspec": {
   "display_name": "Python 3 (ipykernel)",
   "language": "python",
   "name": "python3"
  },
  "language_info": {
   "codemirror_mode": {
    "name": "ipython",
    "version": 3
   },
   "file_extension": ".py",
   "mimetype": "text/x-python",
   "name": "python",
   "nbconvert_exporter": "python",
   "pygments_lexer": "ipython3",
   "version": "3.12.1"
  }
 },
 "nbformat": 4,
 "nbformat_minor": 5
}
