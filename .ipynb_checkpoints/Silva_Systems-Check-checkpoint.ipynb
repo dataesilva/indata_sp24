{
 "cells": [
  {
   "cell_type": "code",
   "execution_count": 1,
   "id": "4043cd3e-7a7f-495f-b650-483937da05da",
   "metadata": {},
   "outputs": [
    {
     "data": {
      "text/plain": [
       "8"
      ]
     },
     "execution_count": 1,
     "metadata": {},
     "output_type": "execute_result"
    }
   ],
   "source": [
    "3+5"
   ]
  },
  {
   "cell_type": "markdown",
   "id": "c5af80b0-368d-4854-92d2-ee0e630ff51f",
   "metadata": {},
   "source": [
    "## I can code!\n",
    "- somewhat\n",
    "\n",
    "**This text is bold**\n",
    "__this is also bold__"
   ]
  },
  {
   "cell_type": "markdown",
   "id": "f2d7dff9-4177-4bfb-9c62-d03a6aee56d6",
   "metadata": {},
   "source": [
    "[links](https://kent.instructure.com/courses/79067/assignments/1185816)"
   ]
  },
  {
   "cell_type": "code",
   "execution_count": 2,
   "id": "3f125cf7-23f5-4e6d-afd8-63b5960f2171",
   "metadata": {},
   "outputs": [],
   "source": [
    "x = 5"
   ]
  },
  {
   "cell_type": "code",
   "execution_count": 3,
   "id": "6a50c0de-f127-40d8-98a0-d15be00694a8",
   "metadata": {},
   "outputs": [
    {
     "data": {
      "text/plain": [
       "5"
      ]
     },
     "execution_count": 3,
     "metadata": {},
     "output_type": "execute_result"
    }
   ],
   "source": [
    "x"
   ]
  },
  {
   "cell_type": "code",
   "execution_count": 4,
   "id": "4bfa052c-2194-449e-a884-a5e4677b7ee9",
   "metadata": {},
   "outputs": [
    {
     "name": "stdout",
     "output_type": "stream",
     "text": [
      "5\n"
     ]
    }
   ],
   "source": [
    "print(x)"
   ]
  },
  {
   "cell_type": "code",
   "execution_count": 5,
   "id": "aa900e7f-c1ec-4546-b495-9bcc9fff6b28",
   "metadata": {},
   "outputs": [
    {
     "name": "stdout",
     "output_type": "stream",
     "text": [
      "1\n",
      "2\n",
      "3\n",
      "4\n",
      "5\n"
     ]
    }
   ],
   "source": [
    "for i in [1,2,3,4]:\n",
    "    print(i)\n",
    "\n",
    "for i in [x]:\n",
    "    print(i)"
   ]
  },
  {
   "cell_type": "code",
   "execution_count": 4,
   "id": "0af4ccee-5d30-4e95-a85b-3928783f0fc7",
   "metadata": {},
   "outputs": [],
   "source": [
    "def say_hello(x):\n",
    "    print(\"hello \" + str(x))"
   ]
  },
  {
   "cell_type": "code",
   "execution_count": 5,
   "id": "dbdcacf9-738e-4f5a-92ad-a13ee068edaa",
   "metadata": {},
   "outputs": [
    {
     "name": "stdout",
     "output_type": "stream",
     "text": [
      "hello David\n"
     ]
    }
   ],
   "source": [
    "say_hello(\"David\")"
   ]
  },
  {
   "cell_type": "code",
   "execution_count": 8,
   "id": "844ef5ca-61ea-4682-a1ad-b7cf1578b54f",
   "metadata": {},
   "outputs": [],
   "source": [
    "def return_hello(x):\n",
    "    y = \"hello \" + x\n",
    "    return y"
   ]
  },
  {
   "cell_type": "code",
   "execution_count": 10,
   "id": "8b9ae6f3-4fcc-49fd-ae1d-88c2e1e17ceb",
   "metadata": {},
   "outputs": [],
   "source": [
    "greetings = return_hello(\"David\")"
   ]
  },
  {
   "cell_type": "code",
   "execution_count": 11,
   "id": "1bfa2c8b-eaf4-477c-806e-d12ae40b79dc",
   "metadata": {},
   "outputs": [
    {
     "data": {
      "text/plain": [
       "'hello David'"
      ]
     },
     "execution_count": 11,
     "metadata": {},
     "output_type": "execute_result"
    }
   ],
   "source": [
    "greetings"
   ]
  }
 ],
 "metadata": {
  "kernelspec": {
   "display_name": "Python 3 (ipykernel)",
   "language": "python",
   "name": "python3"
  },
  "language_info": {
   "codemirror_mode": {
    "name": "ipython",
    "version": 3
   },
   "file_extension": ".py",
   "mimetype": "text/x-python",
   "name": "python",
   "nbconvert_exporter": "python",
   "pygments_lexer": "ipython3",
   "version": "3.12.1"
  }
 },
 "nbformat": 4,
 "nbformat_minor": 5
}
