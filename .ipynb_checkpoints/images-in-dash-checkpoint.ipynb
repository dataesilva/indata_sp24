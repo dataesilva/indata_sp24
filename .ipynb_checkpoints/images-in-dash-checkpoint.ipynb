{
 "cells": [
  {
   "cell_type": "markdown",
   "id": "59265d26-a338-4c46-926e-bd03d675d026",
   "metadata": {},
   "source": [
    "#### How to Embed Images into a Dash App\n",
    "Demonstrating example from a [Plotly community post](https://community.plotly.com/t/how-to-embed-images-into-a-dash-app/61839)."
   ]
  },
  {
   "cell_type": "code",
   "execution_count": 1,
   "id": "35e27401-6544-49dd-9f82-eacec3323c79",
   "metadata": {},
   "outputs": [],
   "source": [
    "from dash import Dash, html, dcc, Input, Output\n",
    "import pandas as pd\n",
    "import plotly.express as px"
   ]
  },
  {
   "cell_type": "code",
   "execution_count": 2,
   "id": "13041ad9-ccf7-4990-844a-b109901feb7b",
   "metadata": {},
   "outputs": [
    {
     "data": {
      "text/html": [
       "\n",
       "        <iframe\n",
       "            width=\"100%\"\n",
       "            height=\"650\"\n",
       "            src=\"http://127.0.0.1:8050/\"\n",
       "            frameborder=\"0\"\n",
       "            allowfullscreen\n",
       "            \n",
       "        ></iframe>\n",
       "        "
      ],
      "text/plain": [
       "<IPython.lib.display.IFrame at 0x262e0005040>"
      ]
     },
     "metadata": {},
     "output_type": "display_data"
    }
   ],
   "source": [
    "external_stylesheets = ['https://codepen.io/chriddyp/pen/bWLwgP.css']\n",
    "app = Dash(__name__, external_stylesheets=external_stylesheets)\n",
    "\n",
    "app.layout = html.Div([\n",
    "    html.H1(\"Library Statistics Dashboard\", style={'color': '#ffcc00'}),\n",
    "    # Position the Image in the definition of the app layout, not as an external element\n",
    "    html.Img(src='https://www-s3-live.kent.edu/s3fs-root/s3fs-public/kent_state_university%20Horizontal_124-White-cpm.png?VersionId=9iaQKGe82Nhbpa_g1OuNU0R_hl4ps7P8',\n",
    "             style={'width': '150px', 'position': 'absolute', 'top': '10px', 'right': '10px'})\n",
    "],\n",
    "                     style={'color': '#ffcc00', 'font-family': 'Arial', 'background-color': '#00194C'})\n",
    "\n",
    "if __name__ == \"__main__\":\n",
    "    app.run_server()"
   ]
  }
 ],
 "metadata": {
  "kernelspec": {
   "display_name": "Python 3 (ipykernel)",
   "language": "python",
   "name": "python3"
  },
  "language_info": {
   "codemirror_mode": {
    "name": "ipython",
    "version": 3
   },
   "file_extension": ".py",
   "mimetype": "text/x-python",
   "name": "python",
   "nbconvert_exporter": "python",
   "pygments_lexer": "ipython3",
   "version": "3.12.1"
  }
 },
 "nbformat": 4,
 "nbformat_minor": 5
}
