{
 "cells": [
  {
   "cell_type": "code",
   "execution_count": 2,
   "id": "35993757-1561-438f-a5c9-8b83ed3afe80",
   "metadata": {},
   "outputs": [],
   "source": [
    "import pandas as pd"
   ]
  },
  {
   "cell_type": "code",
   "execution_count": 3,
   "id": "2c3c8119-db53-4a37-9244-84c915edb20b",
   "metadata": {},
   "outputs": [
    {
     "data": {
      "text/plain": [
       "pandas.core.frame.DataFrame"
      ]
     },
     "execution_count": 3,
     "metadata": {},
     "output_type": "execute_result"
    }
   ],
   "source": [
    "pd.DataFrame"
   ]
  },
  {
   "cell_type": "code",
   "execution_count": 4,
   "id": "c0a42bb1-7e8d-4406-81da-3886a348bcc8",
   "metadata": {},
   "outputs": [
    {
     "data": {
      "text/plain": [
       "[23, 575, 697, 12, 0]"
      ]
     },
     "execution_count": 4,
     "metadata": {},
     "output_type": "execute_result"
    }
   ],
   "source": [
    "my_list = [23, 575, 697, 12, 0]\n",
    "my_list"
   ]
  },
  {
   "cell_type": "code",
   "execution_count": 6,
   "id": "708a4522-d377-401d-8ca3-aab36f286b64",
   "metadata": {},
   "outputs": [],
   "source": [
    "my_first_df = pd.DataFrame({\"pairs of shoes\": my_list})"
   ]
  },
  {
   "cell_type": "code",
   "execution_count": null,
   "id": "47d94880-e348-4db6-960e-5b4c5a27431a",
   "metadata": {},
   "outputs": [],
   "source": [
    "my_first_df"
   ]
  },
  {
   "cell_type": "code",
   "execution_count": 9,
   "id": "eb42e164-e777-4771-8d56-1147e8d82ee1",
   "metadata": {},
   "outputs": [],
   "source": [
    "json_option_1 = [{'a': 3, 'b': 4, 'c': 7}, {'a': 9, 'b': 14, 'c': 20}]\n",
    "json_option_2 = {'a': [3, 9], 'b': [4, 14], 'c': [7, 20]}"
   ]
  },
  {
   "cell_type": "code",
   "execution_count": 10,
   "id": "ec971432-c6b4-436a-8677-3fbed70649b4",
   "metadata": {},
   "outputs": [
    {
     "data": {
      "text/plain": [
       "list"
      ]
     },
     "execution_count": 10,
     "metadata": {},
     "output_type": "execute_result"
    }
   ],
   "source": [
    "type(json_option_1)"
   ]
  },
  {
   "cell_type": "code",
   "execution_count": 14,
   "id": "3ddf45ba-ceab-4b19-87db-b36f5c693bf4",
   "metadata": {},
   "outputs": [
    {
     "data": {
      "text/plain": [
       "2"
      ]
     },
     "execution_count": 14,
     "metadata": {},
     "output_type": "execute_result"
    }
   ],
   "source": [
    "len(json_option_1)"
   ]
  },
  {
   "cell_type": "code",
   "execution_count": 17,
   "id": "715e4f23-07b2-4be4-86be-d4f59fc97737",
   "metadata": {},
   "outputs": [
    {
     "data": {
      "text/plain": [
       "{'a': 3, 'b': 4, 'c': 7}"
      ]
     },
     "execution_count": 17,
     "metadata": {},
     "output_type": "execute_result"
    }
   ],
   "source": [
    "json_option_1[0]"
   ]
  },
  {
   "cell_type": "code",
   "execution_count": 16,
   "id": "7d3dbedc-03b3-4c09-9ea5-21ecbc347d4b",
   "metadata": {},
   "outputs": [
    {
     "data": {
      "text/plain": [
       "3"
      ]
     },
     "execution_count": 16,
     "metadata": {},
     "output_type": "execute_result"
    }
   ],
   "source": [
    "json_option_1[0]['a']"
   ]
  },
  {
   "cell_type": "code",
   "execution_count": 18,
   "id": "5fab3028-fe9b-469b-842d-efd3d970edb3",
   "metadata": {},
   "outputs": [
    {
     "data": {
      "text/plain": [
       "14"
      ]
     },
     "execution_count": 18,
     "metadata": {},
     "output_type": "execute_result"
    }
   ],
   "source": [
    "json_option_1[1]['b']"
   ]
  },
  {
   "cell_type": "code",
   "execution_count": 19,
   "id": "be70531a-e892-4083-b09e-528e2084b160",
   "metadata": {},
   "outputs": [
    {
     "data": {
      "text/html": [
       "<div>\n",
       "<style scoped>\n",
       "    .dataframe tbody tr th:only-of-type {\n",
       "        vertical-align: middle;\n",
       "    }\n",
       "\n",
       "    .dataframe tbody tr th {\n",
       "        vertical-align: top;\n",
       "    }\n",
       "\n",
       "    .dataframe thead th {\n",
       "        text-align: right;\n",
       "    }\n",
       "</style>\n",
       "<table border=\"1\" class=\"dataframe\">\n",
       "  <thead>\n",
       "    <tr style=\"text-align: right;\">\n",
       "      <th></th>\n",
       "      <th>a</th>\n",
       "      <th>b</th>\n",
       "      <th>c</th>\n",
       "    </tr>\n",
       "  </thead>\n",
       "  <tbody>\n",
       "    <tr>\n",
       "      <th>0</th>\n",
       "      <td>3</td>\n",
       "      <td>4</td>\n",
       "      <td>7</td>\n",
       "    </tr>\n",
       "    <tr>\n",
       "      <th>1</th>\n",
       "      <td>9</td>\n",
       "      <td>14</td>\n",
       "      <td>20</td>\n",
       "    </tr>\n",
       "  </tbody>\n",
       "</table>\n",
       "</div>"
      ],
      "text/plain": [
       "   a   b   c\n",
       "0  3   4   7\n",
       "1  9  14  20"
      ]
     },
     "execution_count": 19,
     "metadata": {},
     "output_type": "execute_result"
    }
   ],
   "source": [
    "df_option_1 = pd.DataFrame(json_option_1)\n",
    "df_option_1"
   ]
  },
  {
   "cell_type": "code",
   "execution_count": 20,
   "id": "29af6b19-aca4-4406-baf9-f6c9acfdde58",
   "metadata": {},
   "outputs": [
    {
     "data": {
      "text/plain": [
       "dict"
      ]
     },
     "execution_count": 20,
     "metadata": {},
     "output_type": "execute_result"
    }
   ],
   "source": [
    "type(json_option_2)"
   ]
  },
  {
   "cell_type": "code",
   "execution_count": 21,
   "id": "89d97751-72a5-4f1f-8279-75352d27d4bd",
   "metadata": {},
   "outputs": [
    {
     "data": {
      "text/plain": [
       "3"
      ]
     },
     "execution_count": 21,
     "metadata": {},
     "output_type": "execute_result"
    }
   ],
   "source": [
    "len(json_option_2)"
   ]
  },
  {
   "cell_type": "code",
   "execution_count": 22,
   "id": "a21d38aa-7b81-40ae-84c3-4ec73fc09c09",
   "metadata": {},
   "outputs": [
    {
     "data": {
      "text/plain": [
       "dict_keys(['a', 'b', 'c'])"
      ]
     },
     "execution_count": 22,
     "metadata": {},
     "output_type": "execute_result"
    }
   ],
   "source": [
    "json_option_2.keys()"
   ]
  },
  {
   "cell_type": "code",
   "execution_count": 23,
   "id": "ad78e599-f3dd-4f43-a4aa-e62a4e82fe65",
   "metadata": {},
   "outputs": [
    {
     "data": {
      "text/plain": [
       "[4, 14]"
      ]
     },
     "execution_count": 23,
     "metadata": {},
     "output_type": "execute_result"
    }
   ],
   "source": [
    "json_option_2['b']"
   ]
  },
  {
   "cell_type": "code",
   "execution_count": 25,
   "id": "d7046e46-561a-4fb4-91de-83190e96f901",
   "metadata": {},
   "outputs": [
    {
     "data": {
      "text/plain": [
       "list"
      ]
     },
     "execution_count": 25,
     "metadata": {},
     "output_type": "execute_result"
    }
   ],
   "source": [
    "type(json_option_2['b'])"
   ]
  },
  {
   "cell_type": "code",
   "execution_count": 26,
   "id": "4bb713b0-b20e-47e0-aa89-dc3580bb698c",
   "metadata": {},
   "outputs": [
    {
     "data": {
      "text/plain": [
       "14"
      ]
     },
     "execution_count": 26,
     "metadata": {},
     "output_type": "execute_result"
    }
   ],
   "source": [
    "json_option_2['b'][1]"
   ]
  },
  {
   "cell_type": "code",
   "execution_count": 27,
   "id": "be9be79c-de29-44cd-9a00-e9d1fcc79767",
   "metadata": {},
   "outputs": [
    {
     "data": {
      "text/html": [
       "<div>\n",
       "<style scoped>\n",
       "    .dataframe tbody tr th:only-of-type {\n",
       "        vertical-align: middle;\n",
       "    }\n",
       "\n",
       "    .dataframe tbody tr th {\n",
       "        vertical-align: top;\n",
       "    }\n",
       "\n",
       "    .dataframe thead th {\n",
       "        text-align: right;\n",
       "    }\n",
       "</style>\n",
       "<table border=\"1\" class=\"dataframe\">\n",
       "  <thead>\n",
       "    <tr style=\"text-align: right;\">\n",
       "      <th></th>\n",
       "      <th>a</th>\n",
       "      <th>b</th>\n",
       "      <th>c</th>\n",
       "    </tr>\n",
       "  </thead>\n",
       "  <tbody>\n",
       "    <tr>\n",
       "      <th>0</th>\n",
       "      <td>3</td>\n",
       "      <td>4</td>\n",
       "      <td>7</td>\n",
       "    </tr>\n",
       "    <tr>\n",
       "      <th>1</th>\n",
       "      <td>9</td>\n",
       "      <td>14</td>\n",
       "      <td>20</td>\n",
       "    </tr>\n",
       "  </tbody>\n",
       "</table>\n",
       "</div>"
      ],
      "text/plain": [
       "   a   b   c\n",
       "0  3   4   7\n",
       "1  9  14  20"
      ]
     },
     "execution_count": 27,
     "metadata": {},
     "output_type": "execute_result"
    }
   ],
   "source": [
    "df_option_2 = pd.DataFrame(json_option_2)\n",
    "df_option_2"
   ]
  },
  {
   "cell_type": "code",
   "execution_count": 29,
   "id": "5d76c4b7-f4e0-4f86-be7c-202808fcb06b",
   "metadata": {},
   "outputs": [
    {
     "data": {
      "text/plain": [
       "3"
      ]
     },
     "execution_count": 29,
     "metadata": {},
     "output_type": "execute_result"
    }
   ],
   "source": [
    "df_option_2['a'].loc[0]"
   ]
  },
  {
   "cell_type": "code",
   "execution_count": 30,
   "id": "4db5cf51-2f41-4877-845f-10f2257301db",
   "metadata": {},
   "outputs": [
    {
     "data": {
      "text/plain": [
       "3"
      ]
     },
     "execution_count": 30,
     "metadata": {},
     "output_type": "execute_result"
    }
   ],
   "source": [
    "df_option_2['a'].iloc[0]"
   ]
  },
  {
   "cell_type": "code",
   "execution_count": 31,
   "id": "2b7f3313-7a00-43f0-a731-53cc233c9e0f",
   "metadata": {},
   "outputs": [
    {
     "name": "stdout",
     "output_type": "stream",
     "text": [
      " Volume in drive C is Local Disk\n",
      " Volume Serial Number is 5087-1F5A\n",
      "\n",
      " Directory of C:\\Users\\dsilva2\\indata_sp24\n",
      "\n",
      "01/29/2024  07:43 PM    <DIR>          .\n",
      "01/22/2024  07:21 PM    <DIR>          ..\n",
      "01/29/2024  07:03 PM    <DIR>          .ipynb_checkpoints\n",
      "01/29/2024  07:43 PM            77,889 cces_example_data.csv\n",
      "01/22/2024  02:11 PM               661 first-notebook-test.ipynb\n",
      "01/29/2024  07:41 PM            10,026 in-class_1-29-24.ipynb\n",
      "01/09/2024  02:59 PM             9,932 LICENSE\n",
      "01/09/2024  02:59 PM                85 README.md\n",
      "01/22/2024  08:10 PM             3,794 Silva_Systems-Check.ipynb\n",
      "               6 File(s)        102,387 bytes\n",
      "               3 Dir(s)  872,101,924,864 bytes free\n"
     ]
    }
   ],
   "source": [
    "ls"
   ]
  },
  {
   "cell_type": "code",
   "execution_count": 32,
   "id": "5492237e-0d74-4daa-afc8-1915e2038e9e",
   "metadata": {},
   "outputs": [],
   "source": [
    "cces = pd.read_csv('cces_example_data.csv')"
   ]
  },
  {
   "cell_type": "code",
   "execution_count": 35,
   "id": "d510d272-36ad-44a8-9462-9ade7df7f108",
   "metadata": {},
   "outputs": [
    {
     "data": {
      "text/html": [
       "<div>\n",
       "<style scoped>\n",
       "    .dataframe tbody tr th:only-of-type {\n",
       "        vertical-align: middle;\n",
       "    }\n",
       "\n",
       "    .dataframe tbody tr th {\n",
       "        vertical-align: top;\n",
       "    }\n",
       "\n",
       "    .dataframe thead th {\n",
       "        text-align: right;\n",
       "    }\n",
       "</style>\n",
       "<table border=\"1\" class=\"dataframe\">\n",
       "  <thead>\n",
       "    <tr style=\"text-align: right;\">\n",
       "      <th></th>\n",
       "      <th>pew_religimp</th>\n",
       "      <th>pew_churatd</th>\n",
       "      <th>sex</th>\n",
       "      <th>educ</th>\n",
       "      <th>nonwhite</th>\n",
       "      <th>age</th>\n",
       "      <th>faminc_new</th>\n",
       "      <th>pid3</th>\n",
       "      <th>ideo5</th>\n",
       "      <th>QueerPhobia</th>\n",
       "      <th>...</th>\n",
       "      <th>InterGBiasParty</th>\n",
       "      <th>InterGBiasCand</th>\n",
       "      <th>InterGBiasSup</th>\n",
       "      <th>LibMediaUse</th>\n",
       "      <th>ConMediaUse</th>\n",
       "      <th>Real_Threat</th>\n",
       "      <th>Symb_Threat</th>\n",
       "      <th>Evaluation</th>\n",
       "      <th>teamweight</th>\n",
       "      <th>caseid</th>\n",
       "    </tr>\n",
       "  </thead>\n",
       "  <tbody>\n",
       "    <tr>\n",
       "      <th>0</th>\n",
       "      <td>2</td>\n",
       "      <td>6</td>\n",
       "      <td>2</td>\n",
       "      <td>2</td>\n",
       "      <td>1</td>\n",
       "      <td>56</td>\n",
       "      <td>6</td>\n",
       "      <td>1</td>\n",
       "      <td>1</td>\n",
       "      <td>1.000000</td>\n",
       "      <td>...</td>\n",
       "      <td>-99</td>\n",
       "      <td>-99</td>\n",
       "      <td>-96</td>\n",
       "      <td>2.666667</td>\n",
       "      <td>1.000000</td>\n",
       "      <td>5.00</td>\n",
       "      <td>4.857143</td>\n",
       "      <td>0</td>\n",
       "      <td>0.505028</td>\n",
       "      <td>1231308943</td>\n",
       "    </tr>\n",
       "    <tr>\n",
       "      <th>1</th>\n",
       "      <td>2</td>\n",
       "      <td>4</td>\n",
       "      <td>2</td>\n",
       "      <td>5</td>\n",
       "      <td>1</td>\n",
       "      <td>53</td>\n",
       "      <td>13</td>\n",
       "      <td>1</td>\n",
       "      <td>2</td>\n",
       "      <td>3.000000</td>\n",
       "      <td>...</td>\n",
       "      <td>-100</td>\n",
       "      <td>-100</td>\n",
       "      <td>-100</td>\n",
       "      <td>2.000000</td>\n",
       "      <td>2.000000</td>\n",
       "      <td>5.00</td>\n",
       "      <td>5.000000</td>\n",
       "      <td>0</td>\n",
       "      <td>0.852381</td>\n",
       "      <td>1232300315</td>\n",
       "    </tr>\n",
       "    <tr>\n",
       "      <th>2</th>\n",
       "      <td>1</td>\n",
       "      <td>2</td>\n",
       "      <td>1</td>\n",
       "      <td>2</td>\n",
       "      <td>1</td>\n",
       "      <td>69</td>\n",
       "      <td>10</td>\n",
       "      <td>2</td>\n",
       "      <td>5</td>\n",
       "      <td>4.333333</td>\n",
       "      <td>...</td>\n",
       "      <td>99</td>\n",
       "      <td>99</td>\n",
       "      <td>96</td>\n",
       "      <td>1.000000</td>\n",
       "      <td>1.000000</td>\n",
       "      <td>5.00</td>\n",
       "      <td>5.000000</td>\n",
       "      <td>2</td>\n",
       "      <td>1.320189</td>\n",
       "      <td>1232358697</td>\n",
       "    </tr>\n",
       "    <tr>\n",
       "      <th>3</th>\n",
       "      <td>2</td>\n",
       "      <td>3</td>\n",
       "      <td>1</td>\n",
       "      <td>6</td>\n",
       "      <td>1</td>\n",
       "      <td>76</td>\n",
       "      <td>97</td>\n",
       "      <td>1</td>\n",
       "      <td>3</td>\n",
       "      <td>1.000000</td>\n",
       "      <td>...</td>\n",
       "      <td>-86</td>\n",
       "      <td>-91</td>\n",
       "      <td>-89</td>\n",
       "      <td>4.666667</td>\n",
       "      <td>1.333333</td>\n",
       "      <td>4.25</td>\n",
       "      <td>4.428571</td>\n",
       "      <td>0</td>\n",
       "      <td>0.519198</td>\n",
       "      <td>1232540961</td>\n",
       "    </tr>\n",
       "    <tr>\n",
       "      <th>4</th>\n",
       "      <td>4</td>\n",
       "      <td>5</td>\n",
       "      <td>2</td>\n",
       "      <td>6</td>\n",
       "      <td>1</td>\n",
       "      <td>83</td>\n",
       "      <td>4</td>\n",
       "      <td>1</td>\n",
       "      <td>2</td>\n",
       "      <td>1.000000</td>\n",
       "      <td>...</td>\n",
       "      <td>-80</td>\n",
       "      <td>-88</td>\n",
       "      <td>-87</td>\n",
       "      <td>4.666667</td>\n",
       "      <td>3.666667</td>\n",
       "      <td>4.25</td>\n",
       "      <td>5.000000</td>\n",
       "      <td>0</td>\n",
       "      <td>1.154005</td>\n",
       "      <td>1232580601</td>\n",
       "    </tr>\n",
       "    <tr>\n",
       "      <th>5</th>\n",
       "      <td>4</td>\n",
       "      <td>6</td>\n",
       "      <td>1</td>\n",
       "      <td>3</td>\n",
       "      <td>2</td>\n",
       "      <td>87</td>\n",
       "      <td>9</td>\n",
       "      <td>3</td>\n",
       "      <td>3</td>\n",
       "      <td>4.000000</td>\n",
       "      <td>...</td>\n",
       "      <td>-39</td>\n",
       "      <td>-89</td>\n",
       "      <td>-84</td>\n",
       "      <td>4.000000</td>\n",
       "      <td>2.000000</td>\n",
       "      <td>4.00</td>\n",
       "      <td>3.714286</td>\n",
       "      <td>0</td>\n",
       "      <td>0.675546</td>\n",
       "      <td>1232638601</td>\n",
       "    </tr>\n",
       "    <tr>\n",
       "      <th>6</th>\n",
       "      <td>2</td>\n",
       "      <td>3</td>\n",
       "      <td>1</td>\n",
       "      <td>6</td>\n",
       "      <td>1</td>\n",
       "      <td>83</td>\n",
       "      <td>11</td>\n",
       "      <td>3</td>\n",
       "      <td>3</td>\n",
       "      <td>2.333333</td>\n",
       "      <td>...</td>\n",
       "      <td>-18</td>\n",
       "      <td>-79</td>\n",
       "      <td>-43</td>\n",
       "      <td>5.000000</td>\n",
       "      <td>4.000000</td>\n",
       "      <td>4.00</td>\n",
       "      <td>3.857143</td>\n",
       "      <td>0</td>\n",
       "      <td>0.519198</td>\n",
       "      <td>1232661775</td>\n",
       "    </tr>\n",
       "    <tr>\n",
       "      <th>7</th>\n",
       "      <td>1</td>\n",
       "      <td>1</td>\n",
       "      <td>1</td>\n",
       "      <td>5</td>\n",
       "      <td>1</td>\n",
       "      <td>69</td>\n",
       "      <td>11</td>\n",
       "      <td>3</td>\n",
       "      <td>4</td>\n",
       "      <td>4.666667</td>\n",
       "      <td>...</td>\n",
       "      <td>82</td>\n",
       "      <td>98</td>\n",
       "      <td>99</td>\n",
       "      <td>1.666667</td>\n",
       "      <td>5.000000</td>\n",
       "      <td>5.00</td>\n",
       "      <td>4.857143</td>\n",
       "      <td>2</td>\n",
       "      <td>0.954665</td>\n",
       "      <td>1232900901</td>\n",
       "    </tr>\n",
       "    <tr>\n",
       "      <th>8</th>\n",
       "      <td>1</td>\n",
       "      <td>2</td>\n",
       "      <td>1</td>\n",
       "      <td>6</td>\n",
       "      <td>1</td>\n",
       "      <td>84</td>\n",
       "      <td>10</td>\n",
       "      <td>3</td>\n",
       "      <td>3</td>\n",
       "      <td>2.666667</td>\n",
       "      <td>...</td>\n",
       "      <td>-61</td>\n",
       "      <td>-86</td>\n",
       "      <td>-49</td>\n",
       "      <td>2.666667</td>\n",
       "      <td>2.000000</td>\n",
       "      <td>3.75</td>\n",
       "      <td>3.285714</td>\n",
       "      <td>0</td>\n",
       "      <td>0.519198</td>\n",
       "      <td>1232924457</td>\n",
       "    </tr>\n",
       "    <tr>\n",
       "      <th>9</th>\n",
       "      <td>3</td>\n",
       "      <td>4</td>\n",
       "      <td>2</td>\n",
       "      <td>4</td>\n",
       "      <td>1</td>\n",
       "      <td>63</td>\n",
       "      <td>8</td>\n",
       "      <td>1</td>\n",
       "      <td>1</td>\n",
       "      <td>1.000000</td>\n",
       "      <td>...</td>\n",
       "      <td>-93</td>\n",
       "      <td>-98</td>\n",
       "      <td>-84</td>\n",
       "      <td>4.000000</td>\n",
       "      <td>1.333333</td>\n",
       "      <td>2.75</td>\n",
       "      <td>3.714286</td>\n",
       "      <td>0</td>\n",
       "      <td>0.873552</td>\n",
       "      <td>1233866717</td>\n",
       "    </tr>\n",
       "  </tbody>\n",
       "</table>\n",
       "<p>10 rows × 21 columns</p>\n",
       "</div>"
      ],
      "text/plain": [
       "   pew_religimp  pew_churatd  sex  educ  nonwhite  age  faminc_new  pid3  \\\n",
       "0             2            6    2     2         1   56           6     1   \n",
       "1             2            4    2     5         1   53          13     1   \n",
       "2             1            2    1     2         1   69          10     2   \n",
       "3             2            3    1     6         1   76          97     1   \n",
       "4             4            5    2     6         1   83           4     1   \n",
       "5             4            6    1     3         2   87           9     3   \n",
       "6             2            3    1     6         1   83          11     3   \n",
       "7             1            1    1     5         1   69          11     3   \n",
       "8             1            2    1     6         1   84          10     3   \n",
       "9             3            4    2     4         1   63           8     1   \n",
       "\n",
       "   ideo5  QueerPhobia  ...  InterGBiasParty  InterGBiasCand  InterGBiasSup  \\\n",
       "0      1     1.000000  ...              -99             -99            -96   \n",
       "1      2     3.000000  ...             -100            -100           -100   \n",
       "2      5     4.333333  ...               99              99             96   \n",
       "3      3     1.000000  ...              -86             -91            -89   \n",
       "4      2     1.000000  ...              -80             -88            -87   \n",
       "5      3     4.000000  ...              -39             -89            -84   \n",
       "6      3     2.333333  ...              -18             -79            -43   \n",
       "7      4     4.666667  ...               82              98             99   \n",
       "8      3     2.666667  ...              -61             -86            -49   \n",
       "9      1     1.000000  ...              -93             -98            -84   \n",
       "\n",
       "   LibMediaUse  ConMediaUse  Real_Threat  Symb_Threat  Evaluation  teamweight  \\\n",
       "0     2.666667     1.000000         5.00     4.857143           0    0.505028   \n",
       "1     2.000000     2.000000         5.00     5.000000           0    0.852381   \n",
       "2     1.000000     1.000000         5.00     5.000000           2    1.320189   \n",
       "3     4.666667     1.333333         4.25     4.428571           0    0.519198   \n",
       "4     4.666667     3.666667         4.25     5.000000           0    1.154005   \n",
       "5     4.000000     2.000000         4.00     3.714286           0    0.675546   \n",
       "6     5.000000     4.000000         4.00     3.857143           0    0.519198   \n",
       "7     1.666667     5.000000         5.00     4.857143           2    0.954665   \n",
       "8     2.666667     2.000000         3.75     3.285714           0    0.519198   \n",
       "9     4.000000     1.333333         2.75     3.714286           0    0.873552   \n",
       "\n",
       "       caseid  \n",
       "0  1231308943  \n",
       "1  1232300315  \n",
       "2  1232358697  \n",
       "3  1232540961  \n",
       "4  1232580601  \n",
       "5  1232638601  \n",
       "6  1232661775  \n",
       "7  1232900901  \n",
       "8  1232924457  \n",
       "9  1233866717  \n",
       "\n",
       "[10 rows x 21 columns]"
      ]
     },
     "execution_count": 35,
     "metadata": {},
     "output_type": "execute_result"
    }
   ],
   "source": [
    "cces.head(10)"
   ]
  },
  {
   "cell_type": "code",
   "execution_count": 36,
   "id": "e709aa8c-59e6-4b77-ae28-6ec2db9a19c3",
   "metadata": {},
   "outputs": [
    {
     "data": {
      "text/html": [
       "<div>\n",
       "<style scoped>\n",
       "    .dataframe tbody tr th:only-of-type {\n",
       "        vertical-align: middle;\n",
       "    }\n",
       "\n",
       "    .dataframe tbody tr th {\n",
       "        vertical-align: top;\n",
       "    }\n",
       "\n",
       "    .dataframe thead th {\n",
       "        text-align: right;\n",
       "    }\n",
       "</style>\n",
       "<table border=\"1\" class=\"dataframe\">\n",
       "  <thead>\n",
       "    <tr style=\"text-align: right;\">\n",
       "      <th></th>\n",
       "      <th>pew_religimp</th>\n",
       "      <th>pew_churatd</th>\n",
       "      <th>sex</th>\n",
       "      <th>educ</th>\n",
       "      <th>nonwhite</th>\n",
       "      <th>age</th>\n",
       "      <th>faminc_new</th>\n",
       "      <th>pid3</th>\n",
       "      <th>ideo5</th>\n",
       "      <th>QueerPhobia</th>\n",
       "      <th>...</th>\n",
       "      <th>InterGBiasParty</th>\n",
       "      <th>InterGBiasCand</th>\n",
       "      <th>InterGBiasSup</th>\n",
       "      <th>LibMediaUse</th>\n",
       "      <th>ConMediaUse</th>\n",
       "      <th>Real_Threat</th>\n",
       "      <th>Symb_Threat</th>\n",
       "      <th>Evaluation</th>\n",
       "      <th>teamweight</th>\n",
       "      <th>caseid</th>\n",
       "    </tr>\n",
       "  </thead>\n",
       "  <tbody>\n",
       "    <tr>\n",
       "      <th>654</th>\n",
       "      <td>1</td>\n",
       "      <td>5</td>\n",
       "      <td>2</td>\n",
       "      <td>2</td>\n",
       "      <td>2</td>\n",
       "      <td>30</td>\n",
       "      <td>4</td>\n",
       "      <td>1</td>\n",
       "      <td>1</td>\n",
       "      <td>2.666667</td>\n",
       "      <td>...</td>\n",
       "      <td>-79</td>\n",
       "      <td>-90</td>\n",
       "      <td>-67</td>\n",
       "      <td>1.666667</td>\n",
       "      <td>1.666667</td>\n",
       "      <td>3.00</td>\n",
       "      <td>3.000000</td>\n",
       "      <td>3</td>\n",
       "      <td>1.182346</td>\n",
       "      <td>1259989749</td>\n",
       "    </tr>\n",
       "    <tr>\n",
       "      <th>655</th>\n",
       "      <td>2</td>\n",
       "      <td>2</td>\n",
       "      <td>1</td>\n",
       "      <td>4</td>\n",
       "      <td>1</td>\n",
       "      <td>19</td>\n",
       "      <td>97</td>\n",
       "      <td>1</td>\n",
       "      <td>1</td>\n",
       "      <td>1.000000</td>\n",
       "      <td>...</td>\n",
       "      <td>-49</td>\n",
       "      <td>-25</td>\n",
       "      <td>-7</td>\n",
       "      <td>2.666667</td>\n",
       "      <td>1.000000</td>\n",
       "      <td>3.75</td>\n",
       "      <td>4.714286</td>\n",
       "      <td>0</td>\n",
       "      <td>0.660217</td>\n",
       "      <td>1260782541</td>\n",
       "    </tr>\n",
       "    <tr>\n",
       "      <th>656</th>\n",
       "      <td>4</td>\n",
       "      <td>6</td>\n",
       "      <td>1</td>\n",
       "      <td>3</td>\n",
       "      <td>1</td>\n",
       "      <td>20</td>\n",
       "      <td>7</td>\n",
       "      <td>1</td>\n",
       "      <td>1</td>\n",
       "      <td>1.000000</td>\n",
       "      <td>...</td>\n",
       "      <td>-47</td>\n",
       "      <td>-47</td>\n",
       "      <td>-41</td>\n",
       "      <td>4.666667</td>\n",
       "      <td>4.666667</td>\n",
       "      <td>5.00</td>\n",
       "      <td>4.285714</td>\n",
       "      <td>0</td>\n",
       "      <td>1.027184</td>\n",
       "      <td>1260840787</td>\n",
       "    </tr>\n",
       "    <tr>\n",
       "      <th>657</th>\n",
       "      <td>2</td>\n",
       "      <td>2</td>\n",
       "      <td>1</td>\n",
       "      <td>3</td>\n",
       "      <td>1</td>\n",
       "      <td>23</td>\n",
       "      <td>5</td>\n",
       "      <td>2</td>\n",
       "      <td>4</td>\n",
       "      <td>3.666667</td>\n",
       "      <td>...</td>\n",
       "      <td>40</td>\n",
       "      <td>99</td>\n",
       "      <td>94</td>\n",
       "      <td>2.000000</td>\n",
       "      <td>2.333333</td>\n",
       "      <td>2.50</td>\n",
       "      <td>3.000000</td>\n",
       "      <td>2</td>\n",
       "      <td>1.433068</td>\n",
       "      <td>1261039231</td>\n",
       "    </tr>\n",
       "    <tr>\n",
       "      <th>658</th>\n",
       "      <td>2</td>\n",
       "      <td>2</td>\n",
       "      <td>1</td>\n",
       "      <td>3</td>\n",
       "      <td>1</td>\n",
       "      <td>23</td>\n",
       "      <td>5</td>\n",
       "      <td>2</td>\n",
       "      <td>4</td>\n",
       "      <td>3.666667</td>\n",
       "      <td>...</td>\n",
       "      <td>40</td>\n",
       "      <td>99</td>\n",
       "      <td>94</td>\n",
       "      <td>2.000000</td>\n",
       "      <td>2.333333</td>\n",
       "      <td>2.50</td>\n",
       "      <td>3.000000</td>\n",
       "      <td>2</td>\n",
       "      <td>1.433068</td>\n",
       "      <td>1261039231</td>\n",
       "    </tr>\n",
       "  </tbody>\n",
       "</table>\n",
       "<p>5 rows × 21 columns</p>\n",
       "</div>"
      ],
      "text/plain": [
       "     pew_religimp  pew_churatd  sex  educ  nonwhite  age  faminc_new  pid3  \\\n",
       "654             1            5    2     2         2   30           4     1   \n",
       "655             2            2    1     4         1   19          97     1   \n",
       "656             4            6    1     3         1   20           7     1   \n",
       "657             2            2    1     3         1   23           5     2   \n",
       "658             2            2    1     3         1   23           5     2   \n",
       "\n",
       "     ideo5  QueerPhobia  ...  InterGBiasParty  InterGBiasCand  InterGBiasSup  \\\n",
       "654      1     2.666667  ...              -79             -90            -67   \n",
       "655      1     1.000000  ...              -49             -25             -7   \n",
       "656      1     1.000000  ...              -47             -47            -41   \n",
       "657      4     3.666667  ...               40              99             94   \n",
       "658      4     3.666667  ...               40              99             94   \n",
       "\n",
       "     LibMediaUse  ConMediaUse  Real_Threat  Symb_Threat  Evaluation  \\\n",
       "654     1.666667     1.666667         3.00     3.000000           3   \n",
       "655     2.666667     1.000000         3.75     4.714286           0   \n",
       "656     4.666667     4.666667         5.00     4.285714           0   \n",
       "657     2.000000     2.333333         2.50     3.000000           2   \n",
       "658     2.000000     2.333333         2.50     3.000000           2   \n",
       "\n",
       "     teamweight      caseid  \n",
       "654    1.182346  1259989749  \n",
       "655    0.660217  1260782541  \n",
       "656    1.027184  1260840787  \n",
       "657    1.433068  1261039231  \n",
       "658    1.433068  1261039231  \n",
       "\n",
       "[5 rows x 21 columns]"
      ]
     },
     "execution_count": 36,
     "metadata": {},
     "output_type": "execute_result"
    }
   ],
   "source": [
    "cces.tail()"
   ]
  },
  {
   "cell_type": "code",
   "execution_count": 37,
   "id": "608aed8a-6d2a-42d5-bf3b-c6adfa9c4e69",
   "metadata": {},
   "outputs": [
    {
     "data": {
      "text/plain": [
       "Index(['pew_religimp', 'pew_churatd', 'sex', 'educ', 'nonwhite', 'age',\n",
       "       'faminc_new', 'pid3', 'ideo5', 'QueerPhobia', 'ImmiPhobia',\n",
       "       'InterGBiasParty', 'InterGBiasCand', 'InterGBiasSup', 'LibMediaUse',\n",
       "       'ConMediaUse', 'Real_Threat', 'Symb_Threat', 'Evaluation', 'teamweight',\n",
       "       'caseid'],\n",
       "      dtype='object')"
      ]
     },
     "execution_count": 37,
     "metadata": {},
     "output_type": "execute_result"
    }
   ],
   "source": [
    "cces.columns"
   ]
  },
  {
   "cell_type": "code",
   "execution_count": 38,
   "id": "30944cf9-f43e-4de9-ae4f-4aa7ad85bf7f",
   "metadata": {},
   "outputs": [
    {
     "data": {
      "text/plain": [
       "(659, 21)"
      ]
     },
     "execution_count": 38,
     "metadata": {},
     "output_type": "execute_result"
    }
   ],
   "source": [
    "cces.shape"
   ]
  },
  {
   "cell_type": "code",
   "execution_count": 40,
   "id": "9d76ecfc-5cc1-4872-ba4e-d8e0ce7f2ccc",
   "metadata": {},
   "outputs": [
    {
     "data": {
      "text/plain": [
       "659"
      ]
     },
     "execution_count": 40,
     "metadata": {},
     "output_type": "execute_result"
    }
   ],
   "source": [
    "len(cces.index)"
   ]
  },
  {
   "cell_type": "code",
   "execution_count": 43,
   "id": "6bb150ae-4fc8-4c4f-a5a6-9659d9a9b8a1",
   "metadata": {},
   "outputs": [
    {
     "data": {
      "text/plain": [
       "52.180576631259484"
      ]
     },
     "execution_count": 43,
     "metadata": {},
     "output_type": "execute_result"
    }
   ],
   "source": [
    "cces['age'].mean()"
   ]
  },
  {
   "cell_type": "code",
   "execution_count": 44,
   "id": "eb6cf3d3-62ee-4fe7-99f8-99dd3d842675",
   "metadata": {},
   "outputs": [
    {
     "data": {
      "text/plain": [
       "0      56\n",
       "1      53\n",
       "2      69\n",
       "3      76\n",
       "4      83\n",
       "       ..\n",
       "654    30\n",
       "655    19\n",
       "656    20\n",
       "657    23\n",
       "658    23\n",
       "Name: age, Length: 659, dtype: int64"
      ]
     },
     "execution_count": 44,
     "metadata": {},
     "output_type": "execute_result"
    }
   ],
   "source": [
    "cces['age']"
   ]
  },
  {
   "cell_type": "code",
   "execution_count": 52,
   "id": "185e5ea9-170d-4c6c-977e-efbe79889112",
   "metadata": {},
   "outputs": [
    {
     "data": {
      "text/plain": [
       "pew_religimp       2.000000e+00\n",
       "pew_churatd        2.000000e+00\n",
       "sex                1.000000e+00\n",
       "educ               3.000000e+00\n",
       "nonwhite           1.000000e+00\n",
       "age                2.300000e+01\n",
       "faminc_new         5.000000e+00\n",
       "pid3               2.000000e+00\n",
       "ideo5              4.000000e+00\n",
       "QueerPhobia        3.666667e+00\n",
       "ImmiPhobia         2.500000e+00\n",
       "InterGBiasParty    4.000000e+01\n",
       "InterGBiasCand     9.900000e+01\n",
       "InterGBiasSup      9.400000e+01\n",
       "LibMediaUse        2.000000e+00\n",
       "ConMediaUse        2.333333e+00\n",
       "Real_Threat        2.500000e+00\n",
       "Symb_Threat        3.000000e+00\n",
       "Evaluation         2.000000e+00\n",
       "teamweight         1.433068e+00\n",
       "caseid             1.261039e+09\n",
       "Name: 658, dtype: float64"
      ]
     },
     "execution_count": 52,
     "metadata": {},
     "output_type": "execute_result"
    }
   ],
   "source": [
    "cces.iloc[-1]"
   ]
  },
  {
   "cell_type": "code",
   "execution_count": 53,
   "id": "1d092d62-b7e1-46c8-a919-b919d38a1ae9",
   "metadata": {},
   "outputs": [],
   "source": [
    "subset_cces = cces.iloc[300:400]"
   ]
  },
  {
   "cell_type": "code",
   "execution_count": 54,
   "id": "df6d31d3-bbc8-4dfe-a2e4-5c4fde78776e",
   "metadata": {},
   "outputs": [
    {
     "data": {
      "text/plain": [
       "(100, 21)"
      ]
     },
     "execution_count": 54,
     "metadata": {},
     "output_type": "execute_result"
    }
   ],
   "source": [
    "subset_cces.shape"
   ]
  },
  {
   "cell_type": "code",
   "execution_count": 56,
   "id": "ea30243d-3200-48fd-9338-ecb8ed288b67",
   "metadata": {},
   "outputs": [],
   "source": [
    "subset_cces.to_csv('subset_cces_example_data.csv')"
   ]
  },
  {
   "cell_type": "code",
   "execution_count": 57,
   "id": "0d17d1e1-2229-4c94-9878-cde29f060536",
   "metadata": {},
   "outputs": [
    {
     "name": "stdout",
     "output_type": "stream",
     "text": [
      " Volume in drive C is Local Disk\n",
      " Volume Serial Number is 5087-1F5A\n",
      "\n",
      " Directory of C:\\Users\\dsilva2\\indata_sp24\n",
      "\n",
      "01/29/2024  08:03 PM    <DIR>          .\n",
      "01/22/2024  07:21 PM    <DIR>          ..\n",
      "01/29/2024  07:03 PM    <DIR>          .ipynb_checkpoints\n",
      "01/29/2024  07:43 PM            77,889 cces_example_data.csv\n",
      "01/22/2024  02:11 PM               661 first-notebook-test.ipynb\n",
      "01/29/2024  08:03 PM            36,025 in-class_1-29-24.ipynb\n",
      "01/09/2024  02:59 PM             9,932 LICENSE\n",
      "01/09/2024  02:59 PM                85 README.md\n",
      "01/22/2024  08:10 PM             3,794 Silva_Systems-Check.ipynb\n",
      "01/29/2024  08:02 PM            12,098 subset_cces_example_data.csv\n",
      "               7 File(s)        140,484 bytes\n",
      "               3 Dir(s)  872,064,000,000 bytes free\n"
     ]
    }
   ],
   "source": [
    "ls"
   ]
  },
  {
   "cell_type": "code",
   "execution_count": 58,
   "id": "3893b274-459c-40f1-b141-9c0c5afbaa57",
   "metadata": {},
   "outputs": [
    {
     "data": {
      "text/html": [
       "<div>\n",
       "<style scoped>\n",
       "    .dataframe tbody tr th:only-of-type {\n",
       "        vertical-align: middle;\n",
       "    }\n",
       "\n",
       "    .dataframe tbody tr th {\n",
       "        vertical-align: top;\n",
       "    }\n",
       "\n",
       "    .dataframe thead th {\n",
       "        text-align: right;\n",
       "    }\n",
       "</style>\n",
       "<table border=\"1\" class=\"dataframe\">\n",
       "  <thead>\n",
       "    <tr style=\"text-align: right;\">\n",
       "      <th></th>\n",
       "      <th>age</th>\n",
       "      <th>sex</th>\n",
       "    </tr>\n",
       "  </thead>\n",
       "  <tbody>\n",
       "    <tr>\n",
       "      <th>0</th>\n",
       "      <td>56</td>\n",
       "      <td>2</td>\n",
       "    </tr>\n",
       "    <tr>\n",
       "      <th>1</th>\n",
       "      <td>53</td>\n",
       "      <td>2</td>\n",
       "    </tr>\n",
       "    <tr>\n",
       "      <th>2</th>\n",
       "      <td>69</td>\n",
       "      <td>1</td>\n",
       "    </tr>\n",
       "    <tr>\n",
       "      <th>3</th>\n",
       "      <td>76</td>\n",
       "      <td>1</td>\n",
       "    </tr>\n",
       "    <tr>\n",
       "      <th>4</th>\n",
       "      <td>83</td>\n",
       "      <td>2</td>\n",
       "    </tr>\n",
       "    <tr>\n",
       "      <th>...</th>\n",
       "      <td>...</td>\n",
       "      <td>...</td>\n",
       "    </tr>\n",
       "    <tr>\n",
       "      <th>654</th>\n",
       "      <td>30</td>\n",
       "      <td>2</td>\n",
       "    </tr>\n",
       "    <tr>\n",
       "      <th>655</th>\n",
       "      <td>19</td>\n",
       "      <td>1</td>\n",
       "    </tr>\n",
       "    <tr>\n",
       "      <th>656</th>\n",
       "      <td>20</td>\n",
       "      <td>1</td>\n",
       "    </tr>\n",
       "    <tr>\n",
       "      <th>657</th>\n",
       "      <td>23</td>\n",
       "      <td>1</td>\n",
       "    </tr>\n",
       "    <tr>\n",
       "      <th>658</th>\n",
       "      <td>23</td>\n",
       "      <td>1</td>\n",
       "    </tr>\n",
       "  </tbody>\n",
       "</table>\n",
       "<p>659 rows × 2 columns</p>\n",
       "</div>"
      ],
      "text/plain": [
       "     age  sex\n",
       "0     56    2\n",
       "1     53    2\n",
       "2     69    1\n",
       "3     76    1\n",
       "4     83    2\n",
       "..   ...  ...\n",
       "654   30    2\n",
       "655   19    1\n",
       "656   20    1\n",
       "657   23    1\n",
       "658   23    1\n",
       "\n",
       "[659 rows x 2 columns]"
      ]
     },
     "execution_count": 58,
     "metadata": {},
     "output_type": "execute_result"
    }
   ],
   "source": [
    "cces[['age', 'sex']]"
   ]
  }
 ],
 "metadata": {
  "kernelspec": {
   "display_name": "Python 3 (ipykernel)",
   "language": "python",
   "name": "python3"
  },
  "language_info": {
   "codemirror_mode": {
    "name": "ipython",
    "version": 3
   },
   "file_extension": ".py",
   "mimetype": "text/x-python",
   "name": "python",
   "nbconvert_exporter": "python",
   "pygments_lexer": "ipython3",
   "version": "3.12.1"
  }
 },
 "nbformat": 4,
 "nbformat_minor": 5
}
