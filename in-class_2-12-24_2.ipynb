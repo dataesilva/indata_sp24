{
 "cells": [
  {
   "cell_type": "code",
   "execution_count": 1,
   "id": "2323ef39-d66e-44b5-b32e-32b3158b0164",
   "metadata": {},
   "outputs": [],
   "source": [
    "import pandas as pd"
   ]
  },
  {
   "cell_type": "code",
   "execution_count": 2,
   "id": "f589817c-f3ae-4f5d-9800-5cf8f9912af8",
   "metadata": {},
   "outputs": [
    {
     "name": "stdout",
     "output_type": "stream",
     "text": [
      " Volume in drive C is Local Disk\n",
      " Volume Serial Number is 5087-1F5A\n",
      "\n",
      " Directory of C:\\Users\\dsilva2\\indata_sp24\n",
      "\n",
      "02/12/2024  06:52 PM    <DIR>          .\n",
      "02/02/2024  02:21 PM    <DIR>          ..\n",
      "02/12/2024  06:21 PM    <DIR>          .ipynb_checkpoints\n",
      "01/29/2024  07:43 PM            77,889 cces_example_data.csv\n",
      "02/05/2024  07:55 PM           119,578 chessbuds_messages.json\n",
      "02/12/2024  05:10 PM               373 commute.csv\n",
      "01/22/2024  02:11 PM               661 first-notebook-test.ipynb\n",
      "01/29/2024  08:26 PM            40,224 in-class_1-29-24.ipynb\n",
      "02/12/2024  05:10 PM            17,450 in-class_2-12-24.ipynb\n",
      "02/12/2024  06:52 PM            14,864 in-class_2-12-24_2.ipynb\n",
      "02/05/2024  07:54 PM            31,405 in-class_2-5-24.ipynb\n",
      "01/09/2024  02:59 PM             9,932 LICENSE\n",
      "02/05/2024  05:25 PM             1,285 Load-JSON-as-dict-example.ipynb\n",
      "01/09/2024  02:59 PM                85 README.md\n",
      "01/22/2024  08:10 PM             3,794 Silva_Systems-Check.ipynb\n",
      "02/05/2024  08:14 PM            12,696 Silva_tidy-challenge.ipynb\n",
      "02/05/2024  06:14 PM            32,841 Spotify_Montero_data.json\n",
      "01/29/2024  08:02 PM            12,098 subset_cces_example_data.csv\n",
      "              15 File(s)        375,175 bytes\n",
      "               3 Dir(s)  866,530,140,160 bytes free\n"
     ]
    }
   ],
   "source": [
    "ls"
   ]
  },
  {
   "cell_type": "code",
   "execution_count": 3,
   "id": "ed088935-5523-4544-b06a-1d87042efde3",
   "metadata": {},
   "outputs": [],
   "source": [
    "commute = pd.read_csv('commute.csv')"
   ]
  },
  {
   "cell_type": "code",
   "execution_count": 4,
   "id": "00f8d90c-cf52-494c-90e0-66b2c13c72a6",
   "metadata": {},
   "outputs": [
    {
     "data": {
      "text/html": [
       "<div>\n",
       "<style scoped>\n",
       "    .dataframe tbody tr th:only-of-type {\n",
       "        vertical-align: middle;\n",
       "    }\n",
       "\n",
       "    .dataframe tbody tr th {\n",
       "        vertical-align: top;\n",
       "    }\n",
       "\n",
       "    .dataframe thead th {\n",
       "        text-align: right;\n",
       "    }\n",
       "</style>\n",
       "<table border=\"1\" class=\"dataframe\">\n",
       "  <thead>\n",
       "    <tr style=\"text-align: right;\">\n",
       "      <th></th>\n",
       "      <th>TripID</th>\n",
       "      <th>Vehicle</th>\n",
       "      <th>Date</th>\n",
       "      <th>CommuteTime</th>\n",
       "      <th>Destination</th>\n",
       "      <th>Weather</th>\n",
       "    </tr>\n",
       "  </thead>\n",
       "  <tbody>\n",
       "    <tr>\n",
       "      <th>0</th>\n",
       "      <td>0</td>\n",
       "      <td>Street Triple</td>\n",
       "      <td>11/8/2022</td>\n",
       "      <td>18.5</td>\n",
       "      <td>Franklin</td>\n",
       "      <td>rain</td>\n",
       "    </tr>\n",
       "    <tr>\n",
       "      <th>1</th>\n",
       "      <td>1</td>\n",
       "      <td>Street Triple</td>\n",
       "      <td>11/9/2022</td>\n",
       "      <td>19.0</td>\n",
       "      <td>Taylor</td>\n",
       "      <td>sun</td>\n",
       "    </tr>\n",
       "    <tr>\n",
       "      <th>2</th>\n",
       "      <td>2</td>\n",
       "      <td>Street Triple</td>\n",
       "      <td>11/10/2022</td>\n",
       "      <td>17.0</td>\n",
       "      <td>Franklin</td>\n",
       "      <td>sun</td>\n",
       "    </tr>\n",
       "    <tr>\n",
       "      <th>3</th>\n",
       "      <td>3</td>\n",
       "      <td>Passat</td>\n",
       "      <td>11/15/2022</td>\n",
       "      <td>22.0</td>\n",
       "      <td>Taylor</td>\n",
       "      <td>snow</td>\n",
       "    </tr>\n",
       "    <tr>\n",
       "      <th>4</th>\n",
       "      <td>4</td>\n",
       "      <td>Passat</td>\n",
       "      <td>11/16/2022</td>\n",
       "      <td>19.0</td>\n",
       "      <td>Taylor</td>\n",
       "      <td>snow</td>\n",
       "    </tr>\n",
       "    <tr>\n",
       "      <th>5</th>\n",
       "      <td>5</td>\n",
       "      <td>Passat</td>\n",
       "      <td>11/28/2022</td>\n",
       "      <td>21.0</td>\n",
       "      <td>Taylor</td>\n",
       "      <td>rain</td>\n",
       "    </tr>\n",
       "    <tr>\n",
       "      <th>6</th>\n",
       "      <td>6</td>\n",
       "      <td>Passat</td>\n",
       "      <td>12/2/2022</td>\n",
       "      <td>19.0</td>\n",
       "      <td>Franklin</td>\n",
       "      <td>sun</td>\n",
       "    </tr>\n",
       "    <tr>\n",
       "      <th>7</th>\n",
       "      <td>7</td>\n",
       "      <td>Street Triple</td>\n",
       "      <td>12/3/2022</td>\n",
       "      <td>20.0</td>\n",
       "      <td>Library</td>\n",
       "      <td>sun</td>\n",
       "    </tr>\n",
       "  </tbody>\n",
       "</table>\n",
       "</div>"
      ],
      "text/plain": [
       "   TripID        Vehicle        Date  CommuteTime Destination Weather\n",
       "0       0  Street Triple   11/8/2022         18.5    Franklin    rain\n",
       "1       1  Street Triple   11/9/2022         19.0      Taylor     sun\n",
       "2       2  Street Triple  11/10/2022         17.0    Franklin     sun\n",
       "3       3         Passat  11/15/2022         22.0      Taylor    snow\n",
       "4       4         Passat  11/16/2022         19.0      Taylor    snow\n",
       "5       5         Passat  11/28/2022         21.0      Taylor    rain\n",
       "6       6         Passat   12/2/2022         19.0    Franklin     sun\n",
       "7       7  Street Triple   12/3/2022         20.0     Library     sun"
      ]
     },
     "execution_count": 4,
     "metadata": {},
     "output_type": "execute_result"
    }
   ],
   "source": [
    "commute"
   ]
  },
  {
   "cell_type": "code",
   "execution_count": 5,
   "id": "7b474264-5f2c-4b18-8d7a-2cd062e09a17",
   "metadata": {},
   "outputs": [
    {
     "data": {
      "text/plain": [
       "1.545442608815629"
      ]
     },
     "execution_count": 5,
     "metadata": {},
     "output_type": "execute_result"
    }
   ],
   "source": [
    "commute['CommuteTime'].describe()['std']"
   ]
  },
  {
   "cell_type": "code",
   "execution_count": 6,
   "id": "047bc1bf-ba1f-4219-a7bd-0c354121a9d7",
   "metadata": {},
   "outputs": [],
   "source": [
    "description_ct = commute['CommuteTime'].describe()"
   ]
  },
  {
   "cell_type": "code",
   "execution_count": 7,
   "id": "a5fe9749-da4f-41d8-b57f-32f6513d261d",
   "metadata": {},
   "outputs": [
    {
     "data": {
      "text/plain": [
       "15.76"
      ]
     },
     "execution_count": 7,
     "metadata": {},
     "output_type": "execute_result"
    }
   ],
   "source": [
    "round(description_ct.mean(), 2)"
   ]
  },
  {
   "cell_type": "code",
   "execution_count": 8,
   "id": "5d4b84d9-8a12-41e1-b290-2d3d04ece08f",
   "metadata": {},
   "outputs": [
    {
     "data": {
      "text/plain": [
       "Vehicle\n",
       "Passat           4\n",
       "Street Triple    4\n",
       "Name: TripID, dtype: int64"
      ]
     },
     "execution_count": 8,
     "metadata": {},
     "output_type": "execute_result"
    }
   ],
   "source": [
    "commute.groupby('Vehicle')['TripID'].count()"
   ]
  },
  {
   "cell_type": "code",
   "execution_count": 9,
   "id": "c39d91af-f749-414d-8668-50e668d7e80a",
   "metadata": {},
   "outputs": [
    {
     "data": {
      "text/plain": [
       "Vehicle\n",
       "Passat           20.250\n",
       "Street Triple    18.625\n",
       "Name: mean, dtype: float64"
      ]
     },
     "execution_count": 9,
     "metadata": {},
     "output_type": "execute_result"
    }
   ],
   "source": [
    "commute.groupby('Vehicle')['CommuteTime'].describe()['mean']"
   ]
  },
  {
   "cell_type": "code",
   "execution_count": 10,
   "id": "28f54328-a19f-4c93-8eaf-c5eb03769dd8",
   "metadata": {},
   "outputs": [
    {
     "data": {
      "text/html": [
       "<div>\n",
       "<style scoped>\n",
       "    .dataframe tbody tr th:only-of-type {\n",
       "        vertical-align: middle;\n",
       "    }\n",
       "\n",
       "    .dataframe tbody tr th {\n",
       "        vertical-align: top;\n",
       "    }\n",
       "\n",
       "    .dataframe thead th {\n",
       "        text-align: right;\n",
       "    }\n",
       "</style>\n",
       "<table border=\"1\" class=\"dataframe\">\n",
       "  <thead>\n",
       "    <tr style=\"text-align: right;\">\n",
       "      <th></th>\n",
       "      <th></th>\n",
       "      <th></th>\n",
       "      <th>count</th>\n",
       "      <th>mean</th>\n",
       "      <th>std</th>\n",
       "      <th>min</th>\n",
       "      <th>25%</th>\n",
       "      <th>50%</th>\n",
       "      <th>75%</th>\n",
       "      <th>max</th>\n",
       "    </tr>\n",
       "    <tr>\n",
       "      <th>Vehicle</th>\n",
       "      <th>Destination</th>\n",
       "      <th>Weather</th>\n",
       "      <th></th>\n",
       "      <th></th>\n",
       "      <th></th>\n",
       "      <th></th>\n",
       "      <th></th>\n",
       "      <th></th>\n",
       "      <th></th>\n",
       "      <th></th>\n",
       "    </tr>\n",
       "  </thead>\n",
       "  <tbody>\n",
       "    <tr>\n",
       "      <th rowspan=\"3\" valign=\"top\">Passat</th>\n",
       "      <th>Franklin</th>\n",
       "      <th>sun</th>\n",
       "      <td>1.0</td>\n",
       "      <td>19.0</td>\n",
       "      <td>NaN</td>\n",
       "      <td>19.0</td>\n",
       "      <td>19.00</td>\n",
       "      <td>19.0</td>\n",
       "      <td>19.00</td>\n",
       "      <td>19.0</td>\n",
       "    </tr>\n",
       "    <tr>\n",
       "      <th rowspan=\"2\" valign=\"top\">Taylor</th>\n",
       "      <th>rain</th>\n",
       "      <td>1.0</td>\n",
       "      <td>21.0</td>\n",
       "      <td>NaN</td>\n",
       "      <td>21.0</td>\n",
       "      <td>21.00</td>\n",
       "      <td>21.0</td>\n",
       "      <td>21.00</td>\n",
       "      <td>21.0</td>\n",
       "    </tr>\n",
       "    <tr>\n",
       "      <th>snow</th>\n",
       "      <td>2.0</td>\n",
       "      <td>20.5</td>\n",
       "      <td>2.12132</td>\n",
       "      <td>19.0</td>\n",
       "      <td>19.75</td>\n",
       "      <td>20.5</td>\n",
       "      <td>21.25</td>\n",
       "      <td>22.0</td>\n",
       "    </tr>\n",
       "    <tr>\n",
       "      <th rowspan=\"4\" valign=\"top\">Street Triple</th>\n",
       "      <th rowspan=\"2\" valign=\"top\">Franklin</th>\n",
       "      <th>rain</th>\n",
       "      <td>1.0</td>\n",
       "      <td>18.5</td>\n",
       "      <td>NaN</td>\n",
       "      <td>18.5</td>\n",
       "      <td>18.50</td>\n",
       "      <td>18.5</td>\n",
       "      <td>18.50</td>\n",
       "      <td>18.5</td>\n",
       "    </tr>\n",
       "    <tr>\n",
       "      <th>sun</th>\n",
       "      <td>1.0</td>\n",
       "      <td>17.0</td>\n",
       "      <td>NaN</td>\n",
       "      <td>17.0</td>\n",
       "      <td>17.00</td>\n",
       "      <td>17.0</td>\n",
       "      <td>17.00</td>\n",
       "      <td>17.0</td>\n",
       "    </tr>\n",
       "    <tr>\n",
       "      <th>Library</th>\n",
       "      <th>sun</th>\n",
       "      <td>1.0</td>\n",
       "      <td>20.0</td>\n",
       "      <td>NaN</td>\n",
       "      <td>20.0</td>\n",
       "      <td>20.00</td>\n",
       "      <td>20.0</td>\n",
       "      <td>20.00</td>\n",
       "      <td>20.0</td>\n",
       "    </tr>\n",
       "    <tr>\n",
       "      <th>Taylor</th>\n",
       "      <th>sun</th>\n",
       "      <td>1.0</td>\n",
       "      <td>19.0</td>\n",
       "      <td>NaN</td>\n",
       "      <td>19.0</td>\n",
       "      <td>19.00</td>\n",
       "      <td>19.0</td>\n",
       "      <td>19.00</td>\n",
       "      <td>19.0</td>\n",
       "    </tr>\n",
       "  </tbody>\n",
       "</table>\n",
       "</div>"
      ],
      "text/plain": [
       "                                   count  mean      std   min    25%   50%  \\\n",
       "Vehicle       Destination Weather                                            \n",
       "Passat        Franklin    sun        1.0  19.0      NaN  19.0  19.00  19.0   \n",
       "              Taylor      rain       1.0  21.0      NaN  21.0  21.00  21.0   \n",
       "                          snow       2.0  20.5  2.12132  19.0  19.75  20.5   \n",
       "Street Triple Franklin    rain       1.0  18.5      NaN  18.5  18.50  18.5   \n",
       "                          sun        1.0  17.0      NaN  17.0  17.00  17.0   \n",
       "              Library     sun        1.0  20.0      NaN  20.0  20.00  20.0   \n",
       "              Taylor      sun        1.0  19.0      NaN  19.0  19.00  19.0   \n",
       "\n",
       "                                     75%   max  \n",
       "Vehicle       Destination Weather               \n",
       "Passat        Franklin    sun      19.00  19.0  \n",
       "              Taylor      rain     21.00  21.0  \n",
       "                          snow     21.25  22.0  \n",
       "Street Triple Franklin    rain     18.50  18.5  \n",
       "                          sun      17.00  17.0  \n",
       "              Library     sun      20.00  20.0  \n",
       "              Taylor      sun      19.00  19.0  "
      ]
     },
     "execution_count": 10,
     "metadata": {},
     "output_type": "execute_result"
    }
   ],
   "source": [
    "commute.groupby(['Vehicle', 'Destination', 'Weather'])['CommuteTime'].describe()"
   ]
  }
 ],
 "metadata": {
  "kernelspec": {
   "display_name": "Python 3 (ipykernel)",
   "language": "python",
   "name": "python3"
  },
  "language_info": {
   "codemirror_mode": {
    "name": "ipython",
    "version": 3
   },
   "file_extension": ".py",
   "mimetype": "text/x-python",
   "name": "python",
   "nbconvert_exporter": "python",
   "pygments_lexer": "ipython3",
   "version": "3.12.1"
  }
 },
 "nbformat": 4,
 "nbformat_minor": 5
}
